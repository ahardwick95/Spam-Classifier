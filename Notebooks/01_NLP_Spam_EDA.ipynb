{
 "cells": [
  {
   "cell_type": "code",
   "execution_count": 7,
   "id": "4ee8cd4d-1e83-4e5f-a1db-57865c86360b",
   "metadata": {},
   "outputs": [],
   "source": [
    "import pandas as pd\n",
    "import numpy as np\n",
    "import seaborn as sns\n",
    "import re\n",
    "import matplotlib.pyplot as plt\n"
   ]
  },
  {
   "cell_type": "code",
   "execution_count": 8,
   "id": "aab7ded7-a7c4-4371-b303-9df5cea202cc",
   "metadata": {},
   "outputs": [],
   "source": [
    "Spam_File=open('01_SMSSpamCollection','r')"
   ]
  },
  {
   "cell_type": "code",
   "execution_count": 9,
   "id": "c0582d75-83ba-489b-9496-febe5289f0bf",
   "metadata": {},
   "outputs": [
    {
     "name": "stdout",
     "output_type": "stream",
     "text": [
      "ham\tGo until jurong point, crazy.. Available only in bugis n great world la e buffet... Cine there got amore wat...\n"
     ]
    }
   ],
   "source": [
    "# lets examine the first line of the text file to get a sense of how its strucutred\n",
    "text=Spam_File.readline()\n",
    "print(text.strip())"
   ]
  },
  {
   "cell_type": "markdown",
   "id": "65528f51-fbf7-4618-a3cc-4de8f8eebfd1",
   "metadata": {},
   "source": [
    "We need to preprocess this text data into a dataframe.\n",
    "\n",
    "1. We need to read line by line and store text in dictionary\n",
    "2. Convert dicitonary to dataframe\n",
    "3. Derive features from the spam and ham messages"
   ]
  },
  {
   "cell_type": "code",
   "execution_count": 10,
   "id": "ab372c41-3e98-4bbf-98bc-0ab30c03bf4b",
   "metadata": {},
   "outputs": [],
   "source": [
    "def text_to_dataframe(File_Name):\n",
    "    messages_and_results=[]\n",
    "\n",
    "    # The following code create a list of dictionaries in the following form {message, whther message is spam or not}\n",
    "    with open(File_Name,'r') as Spam_File:\n",
    "        lines=Spam_File.readlines()\n",
    "        for text in lines:\n",
    "            if text.startswith(\"ham\"):\n",
    "                result=\"ham\"\n",
    "                text=text.replace(result,'',1) # remove the key from the text\n",
    "                message=text.strip() # non-spam text accompanying the key\n",
    "                messages_and_results.append({'Text':message,'Result': result})\n",
    "            elif text.startswith(\"spam\"):\n",
    "                result=\"spam\"\n",
    "                text=text.replace(result,'',1) # remove the key from the text\n",
    "                message=text.strip() # non-spam text accompanying the key\n",
    "                messages_and_results.append({'Text':message,'Result': result})\n",
    "        \n",
    "    df=pd.DataFrame(messages_and_results)\n",
    "            \n",
    "    return df\n",
    "         \n",
    "  \n",
    "       "
   ]
  },
  {
   "cell_type": "code",
   "execution_count": 11,
   "id": "8ab01b04-100a-4f62-9d83-a5ef8d6116ae",
   "metadata": {},
   "outputs": [],
   "source": [
    "Spam_df = text_to_dataframe('01_SMSSpamCollection')"
   ]
  },
  {
   "cell_type": "code",
   "execution_count": 12,
   "id": "f37e3b91-333d-4211-b4fc-0fd706fbdb18",
   "metadata": {},
   "outputs": [
    {
     "data": {
      "text/html": [
       "<div>\n",
       "<style scoped>\n",
       "    .dataframe tbody tr th:only-of-type {\n",
       "        vertical-align: middle;\n",
       "    }\n",
       "\n",
       "    .dataframe tbody tr th {\n",
       "        vertical-align: top;\n",
       "    }\n",
       "\n",
       "    .dataframe thead th {\n",
       "        text-align: right;\n",
       "    }\n",
       "</style>\n",
       "<table border=\"1\" class=\"dataframe\">\n",
       "  <thead>\n",
       "    <tr style=\"text-align: right;\">\n",
       "      <th></th>\n",
       "      <th>Text</th>\n",
       "      <th>Result</th>\n",
       "    </tr>\n",
       "  </thead>\n",
       "  <tbody>\n",
       "    <tr>\n",
       "      <th>0</th>\n",
       "      <td>Go until jurong point, crazy.. Available only ...</td>\n",
       "      <td>ham</td>\n",
       "    </tr>\n",
       "    <tr>\n",
       "      <th>1</th>\n",
       "      <td>Ok lar... Joking wif u oni...</td>\n",
       "      <td>ham</td>\n",
       "    </tr>\n",
       "    <tr>\n",
       "      <th>2</th>\n",
       "      <td>Free entry in 2 a wkly comp to win FA Cup fina...</td>\n",
       "      <td>spam</td>\n",
       "    </tr>\n",
       "    <tr>\n",
       "      <th>3</th>\n",
       "      <td>U dun say so early hor... U c already then say...</td>\n",
       "      <td>ham</td>\n",
       "    </tr>\n",
       "    <tr>\n",
       "      <th>4</th>\n",
       "      <td>Nah I don't think he goes to usf, he lives aro...</td>\n",
       "      <td>ham</td>\n",
       "    </tr>\n",
       "  </tbody>\n",
       "</table>\n",
       "</div>"
      ],
      "text/plain": [
       "                                                Text Result\n",
       "0  Go until jurong point, crazy.. Available only ...    ham\n",
       "1                      Ok lar... Joking wif u oni...    ham\n",
       "2  Free entry in 2 a wkly comp to win FA Cup fina...   spam\n",
       "3  U dun say so early hor... U c already then say...    ham\n",
       "4  Nah I don't think he goes to usf, he lives aro...    ham"
      ]
     },
     "execution_count": 12,
     "metadata": {},
     "output_type": "execute_result"
    }
   ],
   "source": [
    "Spam_df.head()"
   ]
  },
  {
   "cell_type": "code",
   "execution_count": 13,
   "id": "13a52f60-a698-481b-9e0d-5d94cdb6f1cf",
   "metadata": {},
   "outputs": [
    {
     "data": {
      "text/plain": [
       "Result\n",
       "ham     4827\n",
       "spam     747\n",
       "Name: count, dtype: int64"
      ]
     },
     "execution_count": 13,
     "metadata": {},
     "output_type": "execute_result"
    }
   ],
   "source": [
    "# sanity check\n",
    "Spam_df['Result'].value_counts()"
   ]
  },
  {
   "cell_type": "code",
   "execution_count": null,
   "id": "4a5e1886-fa27-4334-a8da-a2d9c53d6934",
   "metadata": {},
   "outputs": [],
   "source": []
  },
  {
   "cell_type": "markdown",
   "id": "0850b989-abaf-48c2-8b0f-056c97d7533c",
   "metadata": {},
   "source": [
    "<h2> EDA </h2>"
   ]
  },
  {
   "cell_type": "markdown",
   "id": "79e12ab3-c173-4d4b-8d4a-4529484b125c",
   "metadata": {},
   "source": [
    "<h4> Class Imbalance</h4>"
   ]
  },
  {
   "cell_type": "code",
   "execution_count": 14,
   "id": "f3fef3d0-af82-41d1-9d43-5320f2e6581e",
   "metadata": {},
   "outputs": [],
   "source": [
    "count=Spam_df['Result'].value_counts()\n",
    "num_of_Messages=Spam_df.shape[0]"
   ]
  },
  {
   "cell_type": "code",
   "execution_count": 15,
   "id": "06770dd3-6a77-43ee-bcaf-38dbce61b5b3",
   "metadata": {},
   "outputs": [],
   "source": [
    "Spam_prop = (count['spam']/num_of_Messages)*100 # percentage of messags that are spam in the dataset\n",
    "Non_Spam_prop = (count['ham']/num_of_Messages)*100  # percentage of messags that are not spam in the dataset"
   ]
  },
  {
   "cell_type": "code",
   "execution_count": 16,
   "id": "0b5fcb8d-83d7-4fc5-8e53-4daddd9b08f9",
   "metadata": {},
   "outputs": [
    {
     "name": "stdout",
     "output_type": "stream",
     "text": [
      " Spam messages is 13.40% of the data\n",
      " Non-spam messages is 86.60% of the data\n"
     ]
    }
   ],
   "source": [
    "print(f\" Spam messages is {Spam_prop:.2f}% of the data\")\n",
    "print(f\" Non-spam messages is {Non_Spam_prop:.2f}% of the data\")"
   ]
  },
  {
   "cell_type": "code",
   "execution_count": 17,
   "id": "bb21575d-9a65-4924-9f8a-a52106851a5e",
   "metadata": {},
   "outputs": [
    {
     "data": {
      "image/png": "[encoded data removed]",
      "text/plain": [
       "<Figure size 640x480 with 1 Axes>"
      ]
     },
     "metadata": {},
     "output_type": "display_data"
    }
   ],
   "source": [
    "# Visualization of this imbalance \n",
    "categories=['Spam','Ham']\n",
    "Amount=[count['spam'],count['ham']]\n",
    "sns.barplot(x=categories,y=Amount)\n",
    "\n",
    "plt.xlabel('Message type')\n",
    "plt.ylabel('Amount')\n",
    "plt.title(\"Spam vs Non-Spam class count\")\n",
    "plt.show()"
   ]
  },
  {
   "cell_type": "markdown",
   "id": "cc7bd9ef-a085-44b4-b37c-45c179154d0b",
   "metadata": {},
   "source": [
    "Based on the graph, we can see that the distribution of spam messages is significantly lower in comparsion to that of non-spam messages"
   ]
  },
  {
   "cell_type": "markdown",
   "id": "3078d2c5-324f-4285-83b7-c721750cebb2",
   "metadata": {},
   "source": [
    "<h2> Spam and Ham Text Characteristics</h2>"
   ]
  },
  {
   "cell_type": "markdown",
   "id": "8ad03b88-b816-40e2-b0ba-98264abf1d6a",
   "metadata": {},
   "source": [
    "<h4> Message Length Analysis (character length) </h4>"
   ]
  },
  {
   "cell_type": "code",
   "execution_count": 18,
   "id": "2bcda69e-6035-4234-97c7-0f4c485811f1",
   "metadata": {},
   "outputs": [
    {
     "data": {
      "text/html": [
       "<div>\n",
       "<style scoped>\n",
       "    .dataframe tbody tr th:only-of-type {\n",
       "        vertical-align: middle;\n",
       "    }\n",
       "\n",
       "    .dataframe tbody tr th {\n",
       "        vertical-align: top;\n",
       "    }\n",
       "\n",
       "    .dataframe thead th {\n",
       "        text-align: right;\n",
       "    }\n",
       "</style>\n",
       "<table border=\"1\" class=\"dataframe\">\n",
       "  <thead>\n",
       "    <tr style=\"text-align: right;\">\n",
       "      <th></th>\n",
       "      <th>Text</th>\n",
       "      <th>Result</th>\n",
       "    </tr>\n",
       "  </thead>\n",
       "  <tbody>\n",
       "    <tr>\n",
       "      <th>0</th>\n",
       "      <td>Go until jurong point, crazy.. Available only ...</td>\n",
       "      <td>ham</td>\n",
       "    </tr>\n",
       "    <tr>\n",
       "      <th>1</th>\n",
       "      <td>Ok lar... Joking wif u oni...</td>\n",
       "      <td>ham</td>\n",
       "    </tr>\n",
       "  </tbody>\n",
       "</table>\n",
       "</div>"
      ],
      "text/plain": [
       "                                                Text Result\n",
       "0  Go until jurong point, crazy.. Available only ...    ham\n",
       "1                      Ok lar... Joking wif u oni...    ham"
      ]
     },
     "execution_count": 18,
     "metadata": {},
     "output_type": "execute_result"
    }
   ],
   "source": [
    "Spam_df.head(2)"
   ]
  },
  {
   "cell_type": "code",
   "execution_count": 19,
   "id": "182aea42-3f92-43bf-82f2-43b9a35abe08",
   "metadata": {},
   "outputs": [],
   "source": [
    "Spam_df['num_chars'] = Spam_df['Text'].apply(len)"
   ]
  },
  {
   "cell_type": "code",
   "execution_count": 20,
   "id": "640c6150-6e30-430d-950a-cc58f275fd6a",
   "metadata": {},
   "outputs": [
    {
     "data": {
      "text/html": [
       "<div>\n",
       "<style scoped>\n",
       "    .dataframe tbody tr th:only-of-type {\n",
       "        vertical-align: middle;\n",
       "    }\n",
       "\n",
       "    .dataframe tbody tr th {\n",
       "        vertical-align: top;\n",
       "    }\n",
       "\n",
       "    .dataframe thead th {\n",
       "        text-align: right;\n",
       "    }\n",
       "</style>\n",
       "<table border=\"1\" class=\"dataframe\">\n",
       "  <thead>\n",
       "    <tr style=\"text-align: right;\">\n",
       "      <th></th>\n",
       "      <th>Text</th>\n",
       "      <th>Result</th>\n",
       "      <th>num_chars</th>\n",
       "    </tr>\n",
       "  </thead>\n",
       "  <tbody>\n",
       "    <tr>\n",
       "      <th>0</th>\n",
       "      <td>Go until jurong point, crazy.. Available only ...</td>\n",
       "      <td>ham</td>\n",
       "      <td>111</td>\n",
       "    </tr>\n",
       "    <tr>\n",
       "      <th>1</th>\n",
       "      <td>Ok lar... Joking wif u oni...</td>\n",
       "      <td>ham</td>\n",
       "      <td>29</td>\n",
       "    </tr>\n",
       "    <tr>\n",
       "      <th>2</th>\n",
       "      <td>Free entry in 2 a wkly comp to win FA Cup fina...</td>\n",
       "      <td>spam</td>\n",
       "      <td>155</td>\n",
       "    </tr>\n",
       "    <tr>\n",
       "      <th>3</th>\n",
       "      <td>U dun say so early hor... U c already then say...</td>\n",
       "      <td>ham</td>\n",
       "      <td>49</td>\n",
       "    </tr>\n",
       "    <tr>\n",
       "      <th>4</th>\n",
       "      <td>Nah I don't think he goes to usf, he lives aro...</td>\n",
       "      <td>ham</td>\n",
       "      <td>61</td>\n",
       "    </tr>\n",
       "  </tbody>\n",
       "</table>\n",
       "</div>"
      ],
      "text/plain": [
       "                                                Text Result  num_chars\n",
       "0  Go until jurong point, crazy.. Available only ...    ham        111\n",
       "1                      Ok lar... Joking wif u oni...    ham         29\n",
       "2  Free entry in 2 a wkly comp to win FA Cup fina...   spam        155\n",
       "3  U dun say so early hor... U c already then say...    ham         49\n",
       "4  Nah I don't think he goes to usf, he lives aro...    ham         61"
      ]
     },
     "execution_count": 20,
     "metadata": {},
     "output_type": "execute_result"
    }
   ],
   "source": [
    "Spam_df.head()"
   ]
  },
  {
   "cell_type": "code",
   "execution_count": 21,
   "id": "ec332e42-8108-4e0a-8249-abc6f3ec79a7",
   "metadata": {},
   "outputs": [],
   "source": [
    "Spam_bool_marker = Spam_df['Result'] == 'spam'\n",
    "Non_Spam_bool_marker = Spam_df['Result'] == 'ham'\n",
    "\n",
    "Spam_Messages = Spam_df[Spam_bool_marker]\n",
    "Ham_Messages = Spam_df[Non_Spam_bool_marker]\n"
   ]
  },
  {
   "cell_type": "code",
   "execution_count": 22,
   "id": "a99776c9-01c0-4cd1-8fed-35ffbc2321a3",
   "metadata": {},
   "outputs": [],
   "source": [
    "Num_Spam = len(Spam_Messages)\n",
    "Ave_Spam_Mes_Len = Spam_Messages['num_chars'].sum() / Num_Spam\n",
    "\n",
    "Num_Ham_Spam = len(Ham_Messages)\n",
    "Ave_Ham_Mes_Len = Ham_Messages['num_chars'].sum() / Num_Ham_Spam"
   ]
  },
  {
   "cell_type": "code",
   "execution_count": 23,
   "id": "3f16b199-9cd0-4c0d-bac4-8cbfc902ac03",
   "metadata": {},
   "outputs": [
    {
     "name": "stdout",
     "output_type": "stream",
     "text": [
      " There are about 94%  more characters in spam messages compared to ham messages on average\n"
     ]
    }
   ],
   "source": [
    "Char_Percentage_Diff = round((( Ave_Spam_Mes_Len - Ave_Ham_Mes_Len)/Ave_Ham_Mes_Len) *100)\n",
    "print(f\" There are about {Char_Percentage_Diff}%  more characters in spam messages compared to ham messages on average\")"
   ]
  },
  {
   "cell_type": "code",
   "execution_count": 24,
   "id": "9d8857f6-e5d8-4491-a033-45fe1435e7cf",
   "metadata": {},
   "outputs": [
    {
     "data": {
      "image/png": "[encoded data removed]",
      "text/plain": [
       "<Figure size 640x480 with 1 Axes>"
      ]
     },
     "metadata": {},
     "output_type": "display_data"
    }
   ],
   "source": [
    "x = [\"Ham\",\"Spam\"]\n",
    "y = [Ave_Ham_Mes_Len,Ave_Spam_Mes_Len]\n",
    "plt.bar(x,y , color=\"Blue\")\n",
    "plt.title(\"Average character count, Spam vs Ham\")\n",
    "plt.show()"
   ]
  },
  {
   "cell_type": "markdown",
   "id": "527ed129-edc0-4547-b804-faa977452f82",
   "metadata": {},
   "source": [
    "Based on the chart, spam messages are cosniderably longer in comparison to ham messages. This might be due to a higher concetration of unwanted characters/words in the text.  \n",
    "\n",
    "With that in mind, lets further explore the text characteristics in depth."
   ]
  },
  {
   "cell_type": "markdown",
   "id": "3a154d1d-92c3-4182-aa7f-fe7f1f739545",
   "metadata": {},
   "source": [
    "<h4> Average word count, Spam vs Ham</h4>"
   ]
  },
  {
   "cell_type": "code",
   "execution_count": 25,
   "id": "90a4205d-1b13-45ae-8db6-8370ead27317",
   "metadata": {},
   "outputs": [],
   "source": [
    "def Word_Count(message):\n",
    "    return len(re.findall(r\"\\b[a-zA-Z']+\\b\" , message))\n",
    "\n",
    "Spam_df['num_words'] = Spam_df['Text'].apply(Word_Count)"
   ]
  },
  {
   "cell_type": "code",
   "execution_count": 26,
   "id": "361fff31-2cf4-4fec-9c1b-4a534ccbcb03",
   "metadata": {},
   "outputs": [
    {
     "data": {
      "text/html": [
       "<div>\n",
       "<style scoped>\n",
       "    .dataframe tbody tr th:only-of-type {\n",
       "        vertical-align: middle;\n",
       "    }\n",
       "\n",
       "    .dataframe tbody tr th {\n",
       "        vertical-align: top;\n",
       "    }\n",
       "\n",
       "    .dataframe thead th {\n",
       "        text-align: right;\n",
       "    }\n",
       "</style>\n",
       "<table border=\"1\" class=\"dataframe\">\n",
       "  <thead>\n",
       "    <tr style=\"text-align: right;\">\n",
       "      <th></th>\n",
       "      <th>Text</th>\n",
       "      <th>Result</th>\n",
       "      <th>num_chars</th>\n",
       "      <th>num_words</th>\n",
       "    </tr>\n",
       "  </thead>\n",
       "  <tbody>\n",
       "    <tr>\n",
       "      <th>0</th>\n",
       "      <td>Go until jurong point, crazy.. Available only ...</td>\n",
       "      <td>ham</td>\n",
       "      <td>111</td>\n",
       "      <td>20</td>\n",
       "    </tr>\n",
       "    <tr>\n",
       "      <th>1</th>\n",
       "      <td>Ok lar... Joking wif u oni...</td>\n",
       "      <td>ham</td>\n",
       "      <td>29</td>\n",
       "      <td>6</td>\n",
       "    </tr>\n",
       "    <tr>\n",
       "      <th>2</th>\n",
       "      <td>Free entry in 2 a wkly comp to win FA Cup fina...</td>\n",
       "      <td>spam</td>\n",
       "      <td>155</td>\n",
       "      <td>27</td>\n",
       "    </tr>\n",
       "    <tr>\n",
       "      <th>3</th>\n",
       "      <td>U dun say so early hor... U c already then say...</td>\n",
       "      <td>ham</td>\n",
       "      <td>49</td>\n",
       "      <td>11</td>\n",
       "    </tr>\n",
       "    <tr>\n",
       "      <th>4</th>\n",
       "      <td>Nah I don't think he goes to usf, he lives aro...</td>\n",
       "      <td>ham</td>\n",
       "      <td>61</td>\n",
       "      <td>13</td>\n",
       "    </tr>\n",
       "  </tbody>\n",
       "</table>\n",
       "</div>"
      ],
      "text/plain": [
       "                                                Text Result  num_chars  \\\n",
       "0  Go until jurong point, crazy.. Available only ...    ham        111   \n",
       "1                      Ok lar... Joking wif u oni...    ham         29   \n",
       "2  Free entry in 2 a wkly comp to win FA Cup fina...   spam        155   \n",
       "3  U dun say so early hor... U c already then say...    ham         49   \n",
       "4  Nah I don't think he goes to usf, he lives aro...    ham         61   \n",
       "\n",
       "   num_words  \n",
       "0         20  \n",
       "1          6  \n",
       "2         27  \n",
       "3         11  \n",
       "4         13  "
      ]
     },
     "execution_count": 26,
     "metadata": {},
     "output_type": "execute_result"
    }
   ],
   "source": [
    "Spam_df.head()"
   ]
  },
  {
   "cell_type": "code",
   "execution_count": 27,
   "id": "8a99ac74-648b-4b4e-9864-0af61bde8678",
   "metadata": {},
   "outputs": [],
   "source": [
    "Spam_bool_marker = Spam_df['Result'] == 'spam'\n",
    "Non_Spam_bool_marker = Spam_df['Result'] == 'ham'\n",
    "\n",
    "Spam_Messages = Spam_df[Spam_bool_marker]\n",
    "Ham_Messages = Spam_df[Non_Spam_bool_marker]"
   ]
  },
  {
   "cell_type": "code",
   "execution_count": 28,
   "id": "c1d8cdcb-75b4-4876-ad5c-05a0051e12e2",
   "metadata": {},
   "outputs": [],
   "source": [
    "Num_Spam = len(Spam_Messages)\n",
    "Ave_Spam_Word_Count = Spam_Messages['num_words'].sum() / Num_Spam\n",
    "\n",
    "Num_Ham_Spam = len(Ham_Messages)\n",
    "Ave_Ham_Word_Count = Ham_Messages['num_words'].sum() / Num_Ham_Spam"
   ]
  },
  {
   "cell_type": "code",
   "execution_count": 29,
   "id": "9e533b6c-2600-4714-a261-8333f0d926a9",
   "metadata": {},
   "outputs": [
    {
     "name": "stdout",
     "output_type": "stream",
     "text": [
      " There are about 49%  more words in spam messages compared to ham messages on average\n"
     ]
    }
   ],
   "source": [
    "Word_Percentage_Diff = round((( Ave_Spam_Word_Count - Ave_Ham_Word_Count)/Ave_Ham_Word_Count) *100)\n",
    "print(f\" There are about {Word_Percentage_Diff}%  more words in spam messages compared to ham messages on average\")"
   ]
  },
  {
   "cell_type": "code",
   "execution_count": 30,
   "id": "996542fb-a401-4587-8479-3ba38aa49e59",
   "metadata": {},
   "outputs": [
    {
     "data": {
      "image/png": "[encoded data removed]",
      "text/plain": [
       "<Figure size 640x480 with 1 Axes>"
      ]
     },
     "metadata": {},
     "output_type": "display_data"
    }
   ],
   "source": [
    "x = [\"Ham\",\"Spam\"]\n",
    "y = [Ave_Ham_Word_Count, Ave_Spam_Word_Count]\n",
    "plt.bar(x,y , color=\"Blue\")\n",
    "plt.title(\"Average word count, Spam vs Ham\")\n",
    "plt.show()"
   ]
  },
  {
   "cell_type": "markdown",
   "id": "8acab32e-cd4b-446b-9e64-5d75c26d89c0",
   "metadata": {},
   "source": [
    "<h4> Lets check the number of special characters</h4>"
   ]
  },
  {
   "cell_type": "code",
   "execution_count": 31,
   "id": "f90ccde0-0157-4ae0-8753-cb204ef7f9e9",
   "metadata": {},
   "outputs": [],
   "source": [
    "def spec_char_check(message):\n",
    "    return len(re.findall(r'[^a-zA-Z0-9\\s]', message))\n",
    "\n",
    "Spam_df['num_spec_chars'] = Spam_df['Text'].apply(spec_char_check)"
   ]
  },
  {
   "cell_type": "code",
   "execution_count": 32,
   "id": "ec80372d-a74a-4c11-84e9-d30dbe920ff2",
   "metadata": {},
   "outputs": [
    {
     "data": {
      "text/html": [
       "<div>\n",
       "<style scoped>\n",
       "    .dataframe tbody tr th:only-of-type {\n",
       "        vertical-align: middle;\n",
       "    }\n",
       "\n",
       "    .dataframe tbody tr th {\n",
       "        vertical-align: top;\n",
       "    }\n",
       "\n",
       "    .dataframe thead th {\n",
       "        text-align: right;\n",
       "    }\n",
       "</style>\n",
       "<table border=\"1\" class=\"dataframe\">\n",
       "  <thead>\n",
       "    <tr style=\"text-align: right;\">\n",
       "      <th></th>\n",
       "      <th>Text</th>\n",
       "      <th>Result</th>\n",
       "      <th>num_chars</th>\n",
       "      <th>num_words</th>\n",
       "      <th>num_spec_chars</th>\n",
       "    </tr>\n",
       "  </thead>\n",
       "  <tbody>\n",
       "    <tr>\n",
       "      <th>0</th>\n",
       "      <td>Go until jurong point, crazy.. Available only ...</td>\n",
       "      <td>ham</td>\n",
       "      <td>111</td>\n",
       "      <td>20</td>\n",
       "      <td>9</td>\n",
       "    </tr>\n",
       "    <tr>\n",
       "      <th>1</th>\n",
       "      <td>Ok lar... Joking wif u oni...</td>\n",
       "      <td>ham</td>\n",
       "      <td>29</td>\n",
       "      <td>6</td>\n",
       "      <td>6</td>\n",
       "    </tr>\n",
       "    <tr>\n",
       "      <th>2</th>\n",
       "      <td>Free entry in 2 a wkly comp to win FA Cup fina...</td>\n",
       "      <td>spam</td>\n",
       "      <td>155</td>\n",
       "      <td>27</td>\n",
       "      <td>6</td>\n",
       "    </tr>\n",
       "    <tr>\n",
       "      <th>3</th>\n",
       "      <td>U dun say so early hor... U c already then say...</td>\n",
       "      <td>ham</td>\n",
       "      <td>49</td>\n",
       "      <td>11</td>\n",
       "      <td>6</td>\n",
       "    </tr>\n",
       "    <tr>\n",
       "      <th>4</th>\n",
       "      <td>Nah I don't think he goes to usf, he lives aro...</td>\n",
       "      <td>ham</td>\n",
       "      <td>61</td>\n",
       "      <td>13</td>\n",
       "      <td>2</td>\n",
       "    </tr>\n",
       "  </tbody>\n",
       "</table>\n",
       "</div>"
      ],
      "text/plain": [
       "                                                Text Result  num_chars  \\\n",
       "0  Go until jurong point, crazy.. Available only ...    ham        111   \n",
       "1                      Ok lar... Joking wif u oni...    ham         29   \n",
       "2  Free entry in 2 a wkly comp to win FA Cup fina...   spam        155   \n",
       "3  U dun say so early hor... U c already then say...    ham         49   \n",
       "4  Nah I don't think he goes to usf, he lives aro...    ham         61   \n",
       "\n",
       "   num_words  num_spec_chars  \n",
       "0         20               9  \n",
       "1          6               6  \n",
       "2         27               6  \n",
       "3         11               6  \n",
       "4         13               2  "
      ]
     },
     "execution_count": 32,
     "metadata": {},
     "output_type": "execute_result"
    }
   ],
   "source": [
    "Spam_df.head()"
   ]
  },
  {
   "cell_type": "code",
   "execution_count": 33,
   "id": "2143bf33-a18d-4126-9d40-80bee6908e72",
   "metadata": {},
   "outputs": [],
   "source": [
    "Spam_bool_marker = Spam_df['Result'] == 'spam'\n",
    "Non_Spam_bool_marker = Spam_df['Result'] == 'ham'\n",
    "\n",
    "Spam_Messages = Spam_df[Spam_bool_marker]\n",
    "Ham_Messages = Spam_df[Non_Spam_bool_marker]\n"
   ]
  },
  {
   "cell_type": "code",
   "execution_count": 34,
   "id": "ced9dc9f-76a9-4c02-b9b4-9af4bd8532d8",
   "metadata": {},
   "outputs": [],
   "source": [
    "Num_Spam = len(Spam_Messages)\n",
    "Ave_Spam_Mes_Spec_Chars = Spam_Messages['num_spec_chars'].sum() / Num_Spam\n",
    "\n",
    "Num_Ham_Spam = len(Ham_Messages)\n",
    "Ave_Ham_Mes_Spec_Chars = Ham_Messages['num_spec_chars'].sum() / Num_Ham_Spam"
   ]
  },
  {
   "cell_type": "code",
   "execution_count": 35,
   "id": "7649da72-ee3d-4afb-acd2-00531f56d075",
   "metadata": {},
   "outputs": [
    {
     "name": "stdout",
     "output_type": "stream",
     "text": [
      " There are about 61%  more special characters in spam messages compared to ham messages on average\n"
     ]
    }
   ],
   "source": [
    "Spec_Percentage_Diff = round((( Ave_Spam_Mes_Spec_Chars - Ave_Ham_Mes_Spec_Chars)/Ave_Ham_Mes_Spec_Chars) *100)\n",
    "print(f\" There are about {Spec_Percentage_Diff}%  more special characters in spam messages compared to ham messages on average\")"
   ]
  },
  {
   "cell_type": "code",
   "execution_count": 36,
   "id": "8a806ea8-02a4-4e57-bf89-86c629ac1ecd",
   "metadata": {},
   "outputs": [
    {
     "data": {
      "image/png": "[encoded data removed]",
      "text/plain": [
       "<Figure size 640x480 with 1 Axes>"
      ]
     },
     "metadata": {},
     "output_type": "display_data"
    }
   ],
   "source": [
    "x = [\"Ham\",\"Spam\"]\n",
    "y = [Ave_Ham_Mes_Spec_Chars,Ave_Spam_Mes_Spec_Chars]\n",
    "plt.bar(x,y , color=\"Green\")\n",
    "plt.title(\"Average Special character count, Spam vs Ham\")\n",
    "plt.show()"
   ]
  },
  {
   "cell_type": "markdown",
   "id": "7891e8b3-c09c-4445-86cd-66bb71b8cd6f",
   "metadata": {},
   "source": [
    "Considering the nature of spam messages, it makes since for there to be less special characters in the ham messages than spam messages."
   ]
  },
  {
   "cell_type": "markdown",
   "id": "861c47dc-5e38-41f3-a76b-13a144b17c49",
   "metadata": {},
   "source": [
    "<h4> Lets check the number of digits</h4>"
   ]
  },
  {
   "cell_type": "code",
   "execution_count": 37,
   "id": "1575cdf8-10f4-42e1-9a55-b6843ee59bf9",
   "metadata": {},
   "outputs": [],
   "source": [
    "def digit_check(message):\n",
    "    return len(re.findall(r'\\d', message))\n",
    "\n",
    "Spam_df['num_digits'] = Spam_df['Text'].apply(digit_check)"
   ]
  },
  {
   "cell_type": "code",
   "execution_count": 38,
   "id": "f451298f-0635-4f39-8d1d-31370bb8e003",
   "metadata": {},
   "outputs": [
    {
     "data": {
      "text/html": [
       "<div>\n",
       "<style scoped>\n",
       "    .dataframe tbody tr th:only-of-type {\n",
       "        vertical-align: middle;\n",
       "    }\n",
       "\n",
       "    .dataframe tbody tr th {\n",
       "        vertical-align: top;\n",
       "    }\n",
       "\n",
       "    .dataframe thead th {\n",
       "        text-align: right;\n",
       "    }\n",
       "</style>\n",
       "<table border=\"1\" class=\"dataframe\">\n",
       "  <thead>\n",
       "    <tr style=\"text-align: right;\">\n",
       "      <th></th>\n",
       "      <th>Text</th>\n",
       "      <th>Result</th>\n",
       "      <th>num_chars</th>\n",
       "      <th>num_words</th>\n",
       "      <th>num_spec_chars</th>\n",
       "      <th>num_digits</th>\n",
       "    </tr>\n",
       "  </thead>\n",
       "  <tbody>\n",
       "    <tr>\n",
       "      <th>0</th>\n",
       "      <td>Go until jurong point, crazy.. Available only ...</td>\n",
       "      <td>ham</td>\n",
       "      <td>111</td>\n",
       "      <td>20</td>\n",
       "      <td>9</td>\n",
       "      <td>0</td>\n",
       "    </tr>\n",
       "    <tr>\n",
       "      <th>1</th>\n",
       "      <td>Ok lar... Joking wif u oni...</td>\n",
       "      <td>ham</td>\n",
       "      <td>29</td>\n",
       "      <td>6</td>\n",
       "      <td>6</td>\n",
       "      <td>0</td>\n",
       "    </tr>\n",
       "    <tr>\n",
       "      <th>2</th>\n",
       "      <td>Free entry in 2 a wkly comp to win FA Cup fina...</td>\n",
       "      <td>spam</td>\n",
       "      <td>155</td>\n",
       "      <td>27</td>\n",
       "      <td>6</td>\n",
       "      <td>25</td>\n",
       "    </tr>\n",
       "    <tr>\n",
       "      <th>3</th>\n",
       "      <td>U dun say so early hor... U c already then say...</td>\n",
       "      <td>ham</td>\n",
       "      <td>49</td>\n",
       "      <td>11</td>\n",
       "      <td>6</td>\n",
       "      <td>0</td>\n",
       "    </tr>\n",
       "    <tr>\n",
       "      <th>4</th>\n",
       "      <td>Nah I don't think he goes to usf, he lives aro...</td>\n",
       "      <td>ham</td>\n",
       "      <td>61</td>\n",
       "      <td>13</td>\n",
       "      <td>2</td>\n",
       "      <td>0</td>\n",
       "    </tr>\n",
       "    <tr>\n",
       "      <th>5</th>\n",
       "      <td>FreeMsg Hey there darling it's been 3 week's n...</td>\n",
       "      <td>spam</td>\n",
       "      <td>148</td>\n",
       "      <td>30</td>\n",
       "      <td>10</td>\n",
       "      <td>4</td>\n",
       "    </tr>\n",
       "    <tr>\n",
       "      <th>6</th>\n",
       "      <td>Even my brother is not like to speak with me. ...</td>\n",
       "      <td>ham</td>\n",
       "      <td>77</td>\n",
       "      <td>16</td>\n",
       "      <td>2</td>\n",
       "      <td>0</td>\n",
       "    </tr>\n",
       "    <tr>\n",
       "      <th>7</th>\n",
       "      <td>As per your request 'Melle Melle (Oru Minnamin...</td>\n",
       "      <td>ham</td>\n",
       "      <td>160</td>\n",
       "      <td>25</td>\n",
       "      <td>6</td>\n",
       "      <td>1</td>\n",
       "    </tr>\n",
       "    <tr>\n",
       "      <th>8</th>\n",
       "      <td>WINNER!! As a valued network customer you have...</td>\n",
       "      <td>spam</td>\n",
       "      <td>158</td>\n",
       "      <td>22</td>\n",
       "      <td>8</td>\n",
       "      <td>19</td>\n",
       "    </tr>\n",
       "    <tr>\n",
       "      <th>9</th>\n",
       "      <td>Had your mobile 11 months or more? U R entitle...</td>\n",
       "      <td>spam</td>\n",
       "      <td>154</td>\n",
       "      <td>27</td>\n",
       "      <td>2</td>\n",
       "      <td>13</td>\n",
       "    </tr>\n",
       "  </tbody>\n",
       "</table>\n",
       "</div>"
      ],
      "text/plain": [
       "                                                Text Result  num_chars  \\\n",
       "0  Go until jurong point, crazy.. Available only ...    ham        111   \n",
       "1                      Ok lar... Joking wif u oni...    ham         29   \n",
       "2  Free entry in 2 a wkly comp to win FA Cup fina...   spam        155   \n",
       "3  U dun say so early hor... U c already then say...    ham         49   \n",
       "4  Nah I don't think he goes to usf, he lives aro...    ham         61   \n",
       "5  FreeMsg Hey there darling it's been 3 week's n...   spam        148   \n",
       "6  Even my brother is not like to speak with me. ...    ham         77   \n",
       "7  As per your request 'Melle Melle (Oru Minnamin...    ham        160   \n",
       "8  WINNER!! As a valued network customer you have...   spam        158   \n",
       "9  Had your mobile 11 months or more? U R entitle...   spam        154   \n",
       "\n",
       "   num_words  num_spec_chars  num_digits  \n",
       "0         20               9           0  \n",
       "1          6               6           0  \n",
       "2         27               6          25  \n",
       "3         11               6           0  \n",
       "4         13               2           0  \n",
       "5         30              10           4  \n",
       "6         16               2           0  \n",
       "7         25               6           1  \n",
       "8         22               8          19  \n",
       "9         27               2          13  "
      ]
     },
     "execution_count": 38,
     "metadata": {},
     "output_type": "execute_result"
    }
   ],
   "source": [
    "Spam_df.head(10)"
   ]
  },
  {
   "cell_type": "code",
   "execution_count": 39,
   "id": "33f41f0e-c802-48c8-953c-4ebde5647a76",
   "metadata": {},
   "outputs": [],
   "source": [
    "Spam_bool_marker = Spam_df['Result'] == 'spam'\n",
    "Non_Spam_bool_marker = Spam_df['Result'] == 'ham'\n",
    "\n",
    "Spam_Messages = Spam_df[Spam_bool_marker]\n",
    "Ham_Messages = Spam_df[Non_Spam_bool_marker]\n"
   ]
  },
  {
   "cell_type": "code",
   "execution_count": 40,
   "id": "0ccb57c3-faa0-4206-9340-9370c5e9ebd9",
   "metadata": {},
   "outputs": [],
   "source": [
    "Num_Spam = len(Spam_Messages)\n",
    "Ave_Spam_Mes_Digits = Spam_Messages['num_digits'].sum() / Num_Spam\n",
    "\n",
    "Num_Ham_Spam = len(Ham_Messages)\n",
    "Ave_Ham_Mes_Digits = Ham_Messages['num_digits'].sum() / Num_Ham_Spam"
   ]
  },
  {
   "cell_type": "code",
   "execution_count": 41,
   "id": "835fcb6b-efe6-4109-8c27-d9159a51b7c6",
   "metadata": {},
   "outputs": [
    {
     "name": "stdout",
     "output_type": "stream",
     "text": [
      " There are about 5082%  more digits present in spam messages in comparison to ham messages on average\n"
     ]
    }
   ],
   "source": [
    "Digit_Percentage_Diff = round((( Ave_Spam_Mes_Digits - Ave_Ham_Mes_Digits)/Ave_Ham_Mes_Digits) *100)\n",
    "print(f\" There are about {Digit_Percentage_Diff }%  more digits present in spam messages in comparison to ham messages on average\")"
   ]
  },
  {
   "cell_type": "code",
   "execution_count": 42,
   "id": "9d60fbf9-0f6e-4b6c-8996-c5c6f1aa8832",
   "metadata": {},
   "outputs": [
    {
     "data": {
      "image/png": "[encoded data removed]",
      "text/plain": [
       "<Figure size 640x480 with 1 Axes>"
      ]
     },
     "metadata": {},
     "output_type": "display_data"
    }
   ],
   "source": [
    "x = [\"Ham\",\"Spam\"]\n",
    "y = [Ave_Ham_Mes_Digits,Ave_Spam_Mes_Digits]\n",
    "plt.bar(x,y , color=\"red\")\n",
    "plt.title(\"Average digit count, Spam vs Ham\")\n",
    "plt.show()"
   ]
  },
  {
   "cell_type": "markdown",
   "id": "7f17f0eb-4188-4187-b46b-bc315b700a55",
   "metadata": {},
   "source": [
    "There is signigicantly more digits present in spam messages on average compared to ham messages.It would probably suffice to say this will probably be an important feature in determining if a message is spam or not."
   ]
  },
  {
   "cell_type": "markdown",
   "id": "bd739b74-6268-4758-8361-6835b4645e31",
   "metadata": {},
   "source": [
    "<h4> Average count of Uppercase Words in each class</h4>"
   ]
  },
  {
   "cell_type": "code",
   "execution_count": 43,
   "id": "75270ac8-b3e4-46b5-9306-325b4c23e952",
   "metadata": {},
   "outputs": [],
   "source": [
    "def Upper_Count(message):\n",
    "    return len(re.findall(r'\\b[A-Z]+\\b', message)) #  [A-Z] searchs for capital letters, \\b helps to establish boundaries and ensures us to we match upper case words\n",
    "\n",
    "Spam_df['num_Uppercase_Words'] = Spam_df['Text'].apply(Upper_Count)"
   ]
  },
  {
   "cell_type": "code",
   "execution_count": 44,
   "id": "469cbb1e-7f5c-43ae-a7f6-3ad9c29edfa6",
   "metadata": {},
   "outputs": [
    {
     "data": {
      "text/html": [
       "<div>\n",
       "<style scoped>\n",
       "    .dataframe tbody tr th:only-of-type {\n",
       "        vertical-align: middle;\n",
       "    }\n",
       "\n",
       "    .dataframe tbody tr th {\n",
       "        vertical-align: top;\n",
       "    }\n",
       "\n",
       "    .dataframe thead th {\n",
       "        text-align: right;\n",
       "    }\n",
       "</style>\n",
       "<table border=\"1\" class=\"dataframe\">\n",
       "  <thead>\n",
       "    <tr style=\"text-align: right;\">\n",
       "      <th></th>\n",
       "      <th>Text</th>\n",
       "      <th>Result</th>\n",
       "      <th>num_chars</th>\n",
       "      <th>num_words</th>\n",
       "      <th>num_spec_chars</th>\n",
       "      <th>num_digits</th>\n",
       "      <th>num_Uppercase_Words</th>\n",
       "    </tr>\n",
       "  </thead>\n",
       "  <tbody>\n",
       "    <tr>\n",
       "      <th>0</th>\n",
       "      <td>Go until jurong point, crazy.. Available only ...</td>\n",
       "      <td>ham</td>\n",
       "      <td>111</td>\n",
       "      <td>20</td>\n",
       "      <td>9</td>\n",
       "      <td>0</td>\n",
       "      <td>0</td>\n",
       "    </tr>\n",
       "    <tr>\n",
       "      <th>1</th>\n",
       "      <td>Ok lar... Joking wif u oni...</td>\n",
       "      <td>ham</td>\n",
       "      <td>29</td>\n",
       "      <td>6</td>\n",
       "      <td>6</td>\n",
       "      <td>0</td>\n",
       "      <td>0</td>\n",
       "    </tr>\n",
       "    <tr>\n",
       "      <th>2</th>\n",
       "      <td>Free entry in 2 a wkly comp to win FA Cup fina...</td>\n",
       "      <td>spam</td>\n",
       "      <td>155</td>\n",
       "      <td>27</td>\n",
       "      <td>6</td>\n",
       "      <td>25</td>\n",
       "      <td>4</td>\n",
       "    </tr>\n",
       "    <tr>\n",
       "      <th>3</th>\n",
       "      <td>U dun say so early hor... U c already then say...</td>\n",
       "      <td>ham</td>\n",
       "      <td>49</td>\n",
       "      <td>11</td>\n",
       "      <td>6</td>\n",
       "      <td>0</td>\n",
       "      <td>2</td>\n",
       "    </tr>\n",
       "    <tr>\n",
       "      <th>4</th>\n",
       "      <td>Nah I don't think he goes to usf, he lives aro...</td>\n",
       "      <td>ham</td>\n",
       "      <td>61</td>\n",
       "      <td>13</td>\n",
       "      <td>2</td>\n",
       "      <td>0</td>\n",
       "      <td>1</td>\n",
       "    </tr>\n",
       "  </tbody>\n",
       "</table>\n",
       "</div>"
      ],
      "text/plain": [
       "                                                Text Result  num_chars  \\\n",
       "0  Go until jurong point, crazy.. Available only ...    ham        111   \n",
       "1                      Ok lar... Joking wif u oni...    ham         29   \n",
       "2  Free entry in 2 a wkly comp to win FA Cup fina...   spam        155   \n",
       "3  U dun say so early hor... U c already then say...    ham         49   \n",
       "4  Nah I don't think he goes to usf, he lives aro...    ham         61   \n",
       "\n",
       "   num_words  num_spec_chars  num_digits  num_Uppercase_Words  \n",
       "0         20               9           0                    0  \n",
       "1          6               6           0                    0  \n",
       "2         27               6          25                    4  \n",
       "3         11               6           0                    2  \n",
       "4         13               2           0                    1  "
      ]
     },
     "execution_count": 44,
     "metadata": {},
     "output_type": "execute_result"
    }
   ],
   "source": [
    "Spam_df.head()"
   ]
  },
  {
   "cell_type": "code",
   "execution_count": 45,
   "id": "7625e4e0-7883-4cd5-9065-1eee5ec1ca08",
   "metadata": {},
   "outputs": [],
   "source": [
    "Spam_bool_marker = Spam_df['Result'] == 'spam'\n",
    "Non_Spam_bool_marker = Spam_df['Result'] == 'ham'\n",
    "\n",
    "Spam_Messages = Spam_df[Spam_bool_marker]\n",
    "Ham_Messages = Spam_df[Non_Spam_bool_marker]"
   ]
  },
  {
   "cell_type": "code",
   "execution_count": 46,
   "id": "aad08b32-cdd6-4745-b86a-a3af039bb695",
   "metadata": {},
   "outputs": [],
   "source": [
    "Num_Spam = len(Spam_Messages)\n",
    "Ave_Spam_Upper_Words = Spam_Messages['num_Uppercase_Words'].sum() / Num_Spam\n",
    "\n",
    "Num_Ham_Spam = len(Ham_Messages)\n",
    "Ave_Ham_Upper_Words = Ham_Messages['num_Uppercase_Words'].sum() / Num_Ham_Spam"
   ]
  },
  {
   "cell_type": "code",
   "execution_count": 47,
   "id": "d2c0fe07-e069-417b-86e3-2310d7fabc5d",
   "metadata": {},
   "outputs": [
    {
     "name": "stdout",
     "output_type": "stream",
     "text": [
      " There are about 169%  more uppercase words present in spam messages in comparison to ham messages on average\n"
     ]
    }
   ],
   "source": [
    "UpperCase_Percentage_Diff = round((( Ave_Spam_Upper_Words - Ave_Ham_Upper_Words)/Ave_Ham_Upper_Words) *100)\n",
    "print(f\" There are about {UpperCase_Percentage_Diff }%  more uppercase words present in spam messages in comparison to ham messages on average\")"
   ]
  },
  {
   "cell_type": "code",
   "execution_count": 48,
   "id": "fca1aaa2-34d2-4e87-bc18-78fabaa928a8",
   "metadata": {},
   "outputs": [
    {
     "data": {
      "image/png": "[encoded data removed]",
      "text/plain": [
       "<Figure size 640x480 with 1 Axes>"
      ]
     },
     "metadata": {},
     "output_type": "display_data"
    }
   ],
   "source": [
    "x = [\"Ham\",\"Spam\"]\n",
    "y = [Ave_Ham_Upper_Words,Ave_Spam_Upper_Words]\n",
    "plt.bar(x,y , color=\"Orange\")\n",
    "plt.title(\"Average Uppercase Word count, Spam vs Ham\")\n",
    "plt.show()"
   ]
  },
  {
   "cell_type": "markdown",
   "id": "9190712a-92a2-4728-8115-48e77cfe4746",
   "metadata": {},
   "source": [
    "The average concentration of uppercase words in spam is considerably higher than in ham messages. About 260% more to be exact."
   ]
  },
  {
   "cell_type": "markdown",
   "id": "ef81f33b-f150-42b0-9431-cf9d7db54aae",
   "metadata": {},
   "source": [
    "<h4> Url/email address count, Spam vs Ham</h4>"
   ]
  },
  {
   "cell_type": "code",
   "execution_count": 49,
   "id": "0857b7f3-8285-4ed1-8915-8f41e224c46d",
   "metadata": {},
   "outputs": [],
   "source": [
    "def URL_Count(message):\n",
    "    return len(re.findall(r'(https?://\\S+|www\\.\\S+)', message))\n",
    "\n",
    "def Email_Count(message):\n",
    "    return len(re.findall(r'\\b[A-Za-z0-9._%+-]+@[A-Za-z0-9.-]+\\.[A-Z|a-z]{2,}\\b', message, flags=re.IGNORECASE))\n",
    "\n",
    "Spam_df['num_URLS'] = Spam_df['Text'].apply(URL_Count)\n",
    "Spam_df['num_Emails'] = Spam_df['Text'].apply(Email_Count)"
   ]
  },
  {
   "cell_type": "code",
   "execution_count": 50,
   "id": "5a9d9b75-db8f-428b-a531-58abd3a73a70",
   "metadata": {},
   "outputs": [
    {
     "data": {
      "text/html": [
       "<div>\n",
       "<style scoped>\n",
       "    .dataframe tbody tr th:only-of-type {\n",
       "        vertical-align: middle;\n",
       "    }\n",
       "\n",
       "    .dataframe tbody tr th {\n",
       "        vertical-align: top;\n",
       "    }\n",
       "\n",
       "    .dataframe thead th {\n",
       "        text-align: right;\n",
       "    }\n",
       "</style>\n",
       "<table border=\"1\" class=\"dataframe\">\n",
       "  <thead>\n",
       "    <tr style=\"text-align: right;\">\n",
       "      <th></th>\n",
       "      <th>Text</th>\n",
       "      <th>Result</th>\n",
       "      <th>num_chars</th>\n",
       "      <th>num_words</th>\n",
       "      <th>num_spec_chars</th>\n",
       "      <th>num_digits</th>\n",
       "      <th>num_Uppercase_Words</th>\n",
       "      <th>num_URLS</th>\n",
       "      <th>num_Emails</th>\n",
       "    </tr>\n",
       "  </thead>\n",
       "  <tbody>\n",
       "    <tr>\n",
       "      <th>0</th>\n",
       "      <td>Go until jurong point, crazy.. Available only ...</td>\n",
       "      <td>ham</td>\n",
       "      <td>111</td>\n",
       "      <td>20</td>\n",
       "      <td>9</td>\n",
       "      <td>0</td>\n",
       "      <td>0</td>\n",
       "      <td>0</td>\n",
       "      <td>0</td>\n",
       "    </tr>\n",
       "    <tr>\n",
       "      <th>1</th>\n",
       "      <td>Ok lar... Joking wif u oni...</td>\n",
       "      <td>ham</td>\n",
       "      <td>29</td>\n",
       "      <td>6</td>\n",
       "      <td>6</td>\n",
       "      <td>0</td>\n",
       "      <td>0</td>\n",
       "      <td>0</td>\n",
       "      <td>0</td>\n",
       "    </tr>\n",
       "    <tr>\n",
       "      <th>2</th>\n",
       "      <td>Free entry in 2 a wkly comp to win FA Cup fina...</td>\n",
       "      <td>spam</td>\n",
       "      <td>155</td>\n",
       "      <td>27</td>\n",
       "      <td>6</td>\n",
       "      <td>25</td>\n",
       "      <td>4</td>\n",
       "      <td>0</td>\n",
       "      <td>0</td>\n",
       "    </tr>\n",
       "    <tr>\n",
       "      <th>3</th>\n",
       "      <td>U dun say so early hor... U c already then say...</td>\n",
       "      <td>ham</td>\n",
       "      <td>49</td>\n",
       "      <td>11</td>\n",
       "      <td>6</td>\n",
       "      <td>0</td>\n",
       "      <td>2</td>\n",
       "      <td>0</td>\n",
       "      <td>0</td>\n",
       "    </tr>\n",
       "    <tr>\n",
       "      <th>4</th>\n",
       "      <td>Nah I don't think he goes to usf, he lives aro...</td>\n",
       "      <td>ham</td>\n",
       "      <td>61</td>\n",
       "      <td>13</td>\n",
       "      <td>2</td>\n",
       "      <td>0</td>\n",
       "      <td>1</td>\n",
       "      <td>0</td>\n",
       "      <td>0</td>\n",
       "    </tr>\n",
       "  </tbody>\n",
       "</table>\n",
       "</div>"
      ],
      "text/plain": [
       "                                                Text Result  num_chars  \\\n",
       "0  Go until jurong point, crazy.. Available only ...    ham        111   \n",
       "1                      Ok lar... Joking wif u oni...    ham         29   \n",
       "2  Free entry in 2 a wkly comp to win FA Cup fina...   spam        155   \n",
       "3  U dun say so early hor... U c already then say...    ham         49   \n",
       "4  Nah I don't think he goes to usf, he lives aro...    ham         61   \n",
       "\n",
       "   num_words  num_spec_chars  num_digits  num_Uppercase_Words  num_URLS  \\\n",
       "0         20               9           0                    0         0   \n",
       "1          6               6           0                    0         0   \n",
       "2         27               6          25                    4         0   \n",
       "3         11               6           0                    2         0   \n",
       "4         13               2           0                    1         0   \n",
       "\n",
       "   num_Emails  \n",
       "0           0  \n",
       "1           0  \n",
       "2           0  \n",
       "3           0  \n",
       "4           0  "
      ]
     },
     "execution_count": 50,
     "metadata": {},
     "output_type": "execute_result"
    }
   ],
   "source": [
    "Spam_df.head()"
   ]
  },
  {
   "cell_type": "code",
   "execution_count": 51,
   "id": "d7f6ef16-39e9-43d4-becf-9fb199157511",
   "metadata": {},
   "outputs": [],
   "source": [
    "Spam_bool_marker = Spam_df['Result'] == 'spam'\n",
    "Non_Spam_bool_marker = Spam_df['Result'] == 'ham'\n",
    "\n",
    "Spam_Messages = Spam_df[Spam_bool_marker]\n",
    "Ham_Messages = Spam_df[Non_Spam_bool_marker]"
   ]
  },
  {
   "cell_type": "code",
   "execution_count": 52,
   "id": "25c40a64-1000-4a4b-a5b3-9024a0c74386",
   "metadata": {},
   "outputs": [],
   "source": [
    "# lets compare average url count first between the classes\n",
    "Num_Spam = len(Spam_Messages)\n",
    "Ave_Spam_URLS = Spam_Messages['num_URLS'].sum() / Num_Spam\n",
    "\n",
    "Num_Ham_Spam = len(Ham_Messages)\n",
    "Ave_Ham_URLS = Ham_Messages['num_URLS'].sum() / Num_Ham_Spam"
   ]
  },
  {
   "cell_type": "code",
   "execution_count": 53,
   "id": "c053dca3-ffeb-41ed-b37a-0cc31694bc65",
   "metadata": {},
   "outputs": [
    {
     "name": "stdout",
     "output_type": "stream",
     "text": [
      " There are about 33502 %  more URLS present in spam messages in comparison to ham messages on average\n"
     ]
    }
   ],
   "source": [
    "URL_Percentage_Diff = round((( Ave_Spam_URLS  - Ave_Ham_URLS)/Ave_Ham_URLS) *100)\n",
    "print(f\" There are about {URL_Percentage_Diff } %  more URLS present in spam messages in comparison to ham messages on average\")"
   ]
  },
  {
   "cell_type": "code",
   "execution_count": 54,
   "id": "e174f4ee-157a-4320-b0d3-e33c0b715f6f",
   "metadata": {},
   "outputs": [
    {
     "data": {
      "image/png": "[encoded data removed]",
      "text/plain": [
       "<Figure size 640x480 with 1 Axes>"
      ]
     },
     "metadata": {},
     "output_type": "display_data"
    }
   ],
   "source": [
    "x = [\"Ham\",\"Spam\"]\n",
    "y = [Ave_Ham_URLS,Ave_Spam_URLS]\n",
    "plt.bar(x,y , color=\"Orange\")\n",
    "plt.title(\"Average URL count, Spam vs Ham\")\n",
    "plt.show()"
   ]
  },
  {
   "cell_type": "markdown",
   "id": "06606fe2-1d90-4c25-b45c-65152147a062",
   "metadata": {},
   "source": [
    "The average number of urls in both classes is considerably low, but in comparison to each other, spam is considerably higher. Based on this, I would say the presence of URLs are a strong indicator as to whether a message is spam or not."
   ]
  },
  {
   "cell_type": "code",
   "execution_count": 55,
   "id": "c03167dc-e821-4278-9f4a-2db814659688",
   "metadata": {},
   "outputs": [],
   "source": [
    "# Lets compare number of email addresses\n",
    "Num_Spam = len(Spam_Messages)\n",
    "Ave_Spam_Emails = Spam_Messages['num_Emails'].sum() / Num_Spam\n",
    "\n",
    "Num_Ham_Spam = len(Ham_Messages)\n",
    "Ave_Ham_Emails = Ham_Messages['num_Emails'].sum() / Num_Ham_Spam\n"
   ]
  },
  {
   "cell_type": "code",
   "execution_count": 56,
   "id": "cab93fe2-3751-4103-9f1b-9ab3292eaf9a",
   "metadata": {},
   "outputs": [
    {
     "name": "stdout",
     "output_type": "stream",
     "text": [
      " There are about 3777 %  more Emails present in spam messages in comparison to ham messages on average\n"
     ]
    }
   ],
   "source": [
    "Emails_Percentage_Diff = round((( Ave_Spam_Emails  - Ave_Ham_Emails)/Ave_Ham_Emails) *100)\n",
    "print(f\" There are about {Emails_Percentage_Diff} %  more Emails present in spam messages in comparison to ham messages on average\")"
   ]
  },
  {
   "cell_type": "code",
   "execution_count": 57,
   "id": "36d2e31d-a5c3-4218-8ed5-a0c5f4ef1e48",
   "metadata": {},
   "outputs": [
    {
     "data": {
      "image/png": "[encoded data removed]",
      "text/plain": [
       "<Figure size 640x480 with 1 Axes>"
      ]
     },
     "metadata": {},
     "output_type": "display_data"
    }
   ],
   "source": [
    "x = [\"Ham\",\"Spam\"]\n",
    "y = [Ave_Ham_Emails,Ave_Spam_Emails]\n",
    "plt.bar(x,y , color=\"blue\")\n",
    "plt.title(\"Average Email count, Spam vs Ham\")\n",
    "plt.show()"
   ]
  },
  {
   "cell_type": "markdown",
   "id": "db02f54b-78fa-472b-8850-3a5e4b421a7c",
   "metadata": {},
   "source": [
    "Again, like url count, the average email count for both classes is very small but in comparison, spam is much higher. Based on this, email count can also serve as an important feature in distinguishing between spam and ham messages."
   ]
  },
  {
   "cell_type": "markdown",
   "id": "687e1b09-9e03-490a-a0cb-c678bce64098",
   "metadata": {},
   "source": [
    "<h4> Suspcious word count, Spam vs Ham</h4>"
   ]
  },
  {
   "cell_type": "markdown",
   "id": "43df440e-0a1b-4935-ba51-db33c66e30bc",
   "metadata": {},
   "source": [
    "Spam messages are known for contaning distinct and weird wording. The wording is usually designed to induce engagement or immediate action through by attacking people's sense of urgency. The message may promise extravagant amounts of money with the click of a button or offer explicit services through erotic medicine.  \n",
    "\n",
    "Because of this, we will explore the number of suspicious words in the messages as they will definitely help to further distinguish the two classes."
   ]
  },
  {
   "cell_type": "code",
   "execution_count": 58,
   "id": "f19459c4-79a6-444e-aafa-38759e4d633a",
   "metadata": {},
   "outputs": [],
   "source": [
    "# I used ChatGPT to help generate the following list of suspicious words\n",
    "\n",
    "def Monetary_Scams(message):\n",
    "    # Words related to monetery scams\n",
    "    message = message.lower()\n",
    "    Suspicious_Monetary_Words = [\n",
    "    \"free\", \"win\", \"winner\", \"winnings\", \"cash\", \"bonus\",\n",
    "    \"prize\", \"reward\", \"offer\", \"exclusive\", \"guarantee\",\n",
    "    \"100% free\", \"earn\", \"earn money\", \"income\", \"double your\",\n",
    "    \"get paid\", \"giveaway\", \"cheap\", \"lowest price\"\n",
    "    ]\n",
    "\n",
    "    word_count = 0\n",
    "\n",
    "    for word in Suspicious_Monetary_Words:\n",
    "        if word in message:\n",
    "            word_count+=1\n",
    "\n",
    "    return word_count\n"
   ]
  },
  {
   "cell_type": "code",
   "execution_count": 59,
   "id": "914e9627-bcdf-43e1-b1c5-0cbc0f0bc88e",
   "metadata": {},
   "outputs": [],
   "source": [
    "def Urgency_Words(message):\n",
    "    # words to induce urgency and pressure\n",
    "\n",
    "    message = message.lower()\n",
    "    Suspicious_Urgency_Words = [\n",
    "    \"urgent\", \"act now\", \"immediately\", \"don't miss\", \"limited time\",\n",
    "    \"important\", \"as seen on\", \"last chance\", \"once in a lifetime\",\n",
    "    \"apply now\", \"instant access\", \"final notice\", \"only today\"\n",
    "    ]\n",
    "\n",
    "    word_count = 0\n",
    "\n",
    "    for word in Suspicious_Urgency_Words:\n",
    "        if word in message:\n",
    "            word_count+=1\n",
    "\n",
    "    return word_count"
   ]
  },
  {
   "cell_type": "code",
   "execution_count": 60,
   "id": "5bb7362a-cef0-450c-ba5c-fd8059af1531",
   "metadata": {},
   "outputs": [],
   "source": [
    "def Security_Scams(message):\n",
    "    # words related to Security, scams and risky language\n",
    "\n",
    "    message = message.lower()\n",
    "    Suspicious_Security_Words = [\n",
    "    \"confidential\", \"risk-free\", \"no obligation\", \"guaranteed\",\n",
    "    \"safe\", \"access now\", \"click below\", \"click here\", \"this isn’t spam\",\n",
    "    \"unsubscribe\", \"why pay more\", \"credit card\", \"urgent response needed\",\n",
    "    \"act immediately\", \"no cost\"\n",
    "    ]\n",
    "\n",
    "\n",
    "    word_count = 0\n",
    "\n",
    "    for word in Suspicious_Security_Words:\n",
    "        if word in message:\n",
    "            word_count+=1\n",
    "\n",
    "    return word_count"
   ]
  },
  {
   "cell_type": "code",
   "execution_count": 61,
   "id": "1dbf2d7b-7f47-45be-8338-d68190ce6236",
   "metadata": {},
   "outputs": [],
   "source": [
    "def Health_Scams(message):\n",
    "    # words related to health scams, drug use,etc\n",
    "\n",
    "    message = message.lower()\n",
    "    Suspicious_Health_Words = [\n",
    "    \"viagra\", \"cialis\", \"pills\", \"pharmacy\", \"meds\", \"enhancement\",\n",
    "    \"lose weight\", \"no prescription\", \"miracle\", \"adult\", \"xxx\",\n",
    "    \"nude\", \"satisfaction guaranteed\"\n",
    "    ]\n",
    "\n",
    "    word_count = 0\n",
    "\n",
    "    for word in Suspicious_Health_Words:\n",
    "        if word in message:\n",
    "            word_count+=1\n",
    "\n",
    "    return word_count"
   ]
  },
  {
   "cell_type": "code",
   "execution_count": 62,
   "id": "16df4e90-f75b-4b92-8aa8-d28dbeea2808",
   "metadata": {},
   "outputs": [],
   "source": [
    "def Digital_Scams(message):\n",
    "    # words related to digital scams\n",
    "\n",
    "    message = message.lower()\n",
    "    Suspicious_Digital_Words = [\n",
    "    \"viagra\", \"cialis\", \"pills\", \"pharmacy\", \"meds\", \"enhancement\",\n",
    "    \"lose weight\", \"no prescription\", \"miracle\", \"adult\", \"xxx\",\n",
    "    \"nude\", \"satisfaction guaranteed\"\n",
    "    ]\n",
    "\n",
    "    word_count = 0\n",
    "\n",
    "    for word in Suspicious_Digital_Words:\n",
    "        if word in message:\n",
    "            word_count+=1\n",
    "\n",
    "    return word_count"
   ]
  },
  {
   "cell_type": "code",
   "execution_count": 63,
   "id": "b8d330bb-30ed-4734-842b-fa9a495bc443",
   "metadata": {},
   "outputs": [],
   "source": [
    "def Profanities_Count(message):\n",
    "    # words related to explicit language\n",
    "\n",
    "    message = message.lower()\n",
    "    curse_words = [\n",
    "    \"bitch\", \"asshole\", \"shit\", \"fuck\", \"bastard\", \"dick\", \"crap\", \n",
    "    \"slut\", \"whore\", \"damn\", \"piss\", \"motherfucker\", \"cunt\", \"fag\"\n",
    "    ]\n",
    "    \n",
    "    word_count = 0\n",
    "\n",
    "    for word in curse_words:\n",
    "        if word in message:\n",
    "            word_count+=1\n",
    "\n",
    "    return word_count"
   ]
  },
  {
   "cell_type": "code",
   "execution_count": 64,
   "id": "b5568005-fcf6-4528-8a15-b7891060ffbd",
   "metadata": {},
   "outputs": [],
   "source": [
    "def Suspicious_Word_Count(message):\n",
    "    Sus_Word_Count = 0\n",
    "    Sus_Word_Count = Monetary_Scams(message) + Urgency_Words(message) + Security_Scams(message) + Health_Scams(message) + Digital_Scams(message) + Profanities_Count(message)\n",
    "    return Sus_Word_Count"
   ]
  },
  {
   "cell_type": "code",
   "execution_count": 65,
   "id": "08d50678-dc1a-4a4e-9fca-2ce67c96b199",
   "metadata": {},
   "outputs": [],
   "source": [
    "Spam_df['num_Sus_Words'] = Spam_df['Text'].apply(Suspicious_Word_Count)"
   ]
  },
  {
   "cell_type": "code",
   "execution_count": 66,
   "id": "efe3c1cf-8398-49b0-bbc2-8430247a67a2",
   "metadata": {},
   "outputs": [
    {
     "data": {
      "text/html": [
       "<div>\n",
       "<style scoped>\n",
       "    .dataframe tbody tr th:only-of-type {\n",
       "        vertical-align: middle;\n",
       "    }\n",
       "\n",
       "    .dataframe tbody tr th {\n",
       "        vertical-align: top;\n",
       "    }\n",
       "\n",
       "    .dataframe thead th {\n",
       "        text-align: right;\n",
       "    }\n",
       "</style>\n",
       "<table border=\"1\" class=\"dataframe\">\n",
       "  <thead>\n",
       "    <tr style=\"text-align: right;\">\n",
       "      <th></th>\n",
       "      <th>Text</th>\n",
       "      <th>Result</th>\n",
       "      <th>num_chars</th>\n",
       "      <th>num_words</th>\n",
       "      <th>num_spec_chars</th>\n",
       "      <th>num_digits</th>\n",
       "      <th>num_Uppercase_Words</th>\n",
       "      <th>num_URLS</th>\n",
       "      <th>num_Emails</th>\n",
       "      <th>num_Sus_Words</th>\n",
       "    </tr>\n",
       "  </thead>\n",
       "  <tbody>\n",
       "    <tr>\n",
       "      <th>0</th>\n",
       "      <td>Go until jurong point, crazy.. Available only ...</td>\n",
       "      <td>ham</td>\n",
       "      <td>111</td>\n",
       "      <td>20</td>\n",
       "      <td>9</td>\n",
       "      <td>0</td>\n",
       "      <td>0</td>\n",
       "      <td>0</td>\n",
       "      <td>0</td>\n",
       "      <td>0</td>\n",
       "    </tr>\n",
       "    <tr>\n",
       "      <th>1</th>\n",
       "      <td>Ok lar... Joking wif u oni...</td>\n",
       "      <td>ham</td>\n",
       "      <td>29</td>\n",
       "      <td>6</td>\n",
       "      <td>6</td>\n",
       "      <td>0</td>\n",
       "      <td>0</td>\n",
       "      <td>0</td>\n",
       "      <td>0</td>\n",
       "      <td>0</td>\n",
       "    </tr>\n",
       "    <tr>\n",
       "      <th>2</th>\n",
       "      <td>Free entry in 2 a wkly comp to win FA Cup fina...</td>\n",
       "      <td>spam</td>\n",
       "      <td>155</td>\n",
       "      <td>27</td>\n",
       "      <td>6</td>\n",
       "      <td>25</td>\n",
       "      <td>4</td>\n",
       "      <td>0</td>\n",
       "      <td>0</td>\n",
       "      <td>2</td>\n",
       "    </tr>\n",
       "    <tr>\n",
       "      <th>3</th>\n",
       "      <td>U dun say so early hor... U c already then say...</td>\n",
       "      <td>ham</td>\n",
       "      <td>49</td>\n",
       "      <td>11</td>\n",
       "      <td>6</td>\n",
       "      <td>0</td>\n",
       "      <td>2</td>\n",
       "      <td>0</td>\n",
       "      <td>0</td>\n",
       "      <td>0</td>\n",
       "    </tr>\n",
       "    <tr>\n",
       "      <th>4</th>\n",
       "      <td>Nah I don't think he goes to usf, he lives aro...</td>\n",
       "      <td>ham</td>\n",
       "      <td>61</td>\n",
       "      <td>13</td>\n",
       "      <td>2</td>\n",
       "      <td>0</td>\n",
       "      <td>1</td>\n",
       "      <td>0</td>\n",
       "      <td>0</td>\n",
       "      <td>0</td>\n",
       "    </tr>\n",
       "  </tbody>\n",
       "</table>\n",
       "</div>"
      ],
      "text/plain": [
       "                                                Text Result  num_chars  \\\n",
       "0  Go until jurong point, crazy.. Available only ...    ham        111   \n",
       "1                      Ok lar... Joking wif u oni...    ham         29   \n",
       "2  Free entry in 2 a wkly comp to win FA Cup fina...   spam        155   \n",
       "3  U dun say so early hor... U c already then say...    ham         49   \n",
       "4  Nah I don't think he goes to usf, he lives aro...    ham         61   \n",
       "\n",
       "   num_words  num_spec_chars  num_digits  num_Uppercase_Words  num_URLS  \\\n",
       "0         20               9           0                    0         0   \n",
       "1          6               6           0                    0         0   \n",
       "2         27               6          25                    4         0   \n",
       "3         11               6           0                    2         0   \n",
       "4         13               2           0                    1         0   \n",
       "\n",
       "   num_Emails  num_Sus_Words  \n",
       "0           0              0  \n",
       "1           0              0  \n",
       "2           0              2  \n",
       "3           0              0  \n",
       "4           0              0  "
      ]
     },
     "execution_count": 66,
     "metadata": {},
     "output_type": "execute_result"
    }
   ],
   "source": [
    "Spam_df.head()"
   ]
  },
  {
   "cell_type": "code",
   "execution_count": 67,
   "id": "86e45361-8837-4c48-9b26-93877aa47919",
   "metadata": {},
   "outputs": [],
   "source": [
    "Spam_bool_marker = Spam_df['Result'] == 'spam'\n",
    "Non_Spam_bool_marker = Spam_df['Result'] == 'ham'\n",
    "\n",
    "Spam_Messages = Spam_df[Spam_bool_marker]\n",
    "Ham_Messages = Spam_df[Non_Spam_bool_marker]"
   ]
  },
  {
   "cell_type": "code",
   "execution_count": 68,
   "id": "55148b4e-95c6-4017-b807-e4b8ae859d26",
   "metadata": {},
   "outputs": [],
   "source": [
    "Num_Spam = len(Spam_Messages)\n",
    "Ave_Sus_Words_Spam = Spam_Messages['num_Sus_Words'].sum() / Num_Spam\n",
    "\n",
    "Num_Ham_Spam = len(Ham_Messages)\n",
    "Ave_Sus_Words_Ham = Ham_Messages['num_Sus_Words'].sum() / Num_Ham_Spam"
   ]
  },
  {
   "cell_type": "code",
   "execution_count": 69,
   "id": "6b8efdbe-7e6e-44a7-893a-f7a40a38b1ca",
   "metadata": {},
   "outputs": [
    {
     "name": "stdout",
     "output_type": "stream",
     "text": [
      " There are about 1023 %  more suspicious words present in spam messages in comparison to ham messages on average\n"
     ]
    }
   ],
   "source": [
    "Sus_Word_Percentage_Diff = round((( Ave_Sus_Words_Spam  - Ave_Sus_Words_Ham)/Ave_Sus_Words_Ham) *100)\n",
    "print(f\" There are about {Sus_Word_Percentage_Diff} %  more suspicious words present in spam messages in comparison to ham messages on average\")"
   ]
  },
  {
   "cell_type": "code",
   "execution_count": 70,
   "id": "90e23ed9-3750-4c78-9567-ca9b4c9e45ad",
   "metadata": {},
   "outputs": [
    {
     "data": {
      "image/png": "[encoded data removed]",
      "text/plain": [
       "<Figure size 640x480 with 1 Axes>"
      ]
     },
     "metadata": {},
     "output_type": "display_data"
    }
   ],
   "source": [
    "x = [\"Ham\",\"Spam\"]\n",
    "y = [Ave_Sus_Words_Ham,Ave_Sus_Words_Spam]\n",
    "plt.bar(x,y , color=\"red\")\n",
    "plt.title(\"Average Suspcious word count, Spam vs Ham\")\n",
    "plt.show()"
   ]
  },
  {
   "cell_type": "markdown",
   "id": "61b4c74b-a868-4931-a19e-3c03e5da9359",
   "metadata": {},
   "source": [
    "The average number of suspcious words in this case is low for both classes. However, like a lot of the features we have observed, in comparison, the suspicious wording is more pronounced in spam messages than ham messages.\n",
    "\n",
    "Since the nature of classification is to find what distinguishes 2 or more things, this could serve to be an important feature for modeling."
   ]
  },
  {
   "cell_type": "code",
   "execution_count": 71,
   "id": "66b312c5-43ea-4a7b-9022-5b84757d513c",
   "metadata": {},
   "outputs": [
    {
     "data": {
      "text/html": [
       "<div>\n",
       "<style scoped>\n",
       "    .dataframe tbody tr th:only-of-type {\n",
       "        vertical-align: middle;\n",
       "    }\n",
       "\n",
       "    .dataframe tbody tr th {\n",
       "        vertical-align: top;\n",
       "    }\n",
       "\n",
       "    .dataframe thead th {\n",
       "        text-align: right;\n",
       "    }\n",
       "</style>\n",
       "<table border=\"1\" class=\"dataframe\">\n",
       "  <thead>\n",
       "    <tr style=\"text-align: right;\">\n",
       "      <th></th>\n",
       "      <th>Text</th>\n",
       "      <th>Result</th>\n",
       "      <th>num_chars</th>\n",
       "      <th>num_words</th>\n",
       "      <th>num_spec_chars</th>\n",
       "      <th>num_digits</th>\n",
       "      <th>num_Uppercase_Words</th>\n",
       "      <th>num_URLS</th>\n",
       "      <th>num_Emails</th>\n",
       "      <th>num_Sus_Words</th>\n",
       "    </tr>\n",
       "  </thead>\n",
       "  <tbody>\n",
       "    <tr>\n",
       "      <th>0</th>\n",
       "      <td>Go until jurong point, crazy.. Available only ...</td>\n",
       "      <td>ham</td>\n",
       "      <td>111</td>\n",
       "      <td>20</td>\n",
       "      <td>9</td>\n",
       "      <td>0</td>\n",
       "      <td>0</td>\n",
       "      <td>0</td>\n",
       "      <td>0</td>\n",
       "      <td>0</td>\n",
       "    </tr>\n",
       "    <tr>\n",
       "      <th>1</th>\n",
       "      <td>Ok lar... Joking wif u oni...</td>\n",
       "      <td>ham</td>\n",
       "      <td>29</td>\n",
       "      <td>6</td>\n",
       "      <td>6</td>\n",
       "      <td>0</td>\n",
       "      <td>0</td>\n",
       "      <td>0</td>\n",
       "      <td>0</td>\n",
       "      <td>0</td>\n",
       "    </tr>\n",
       "    <tr>\n",
       "      <th>2</th>\n",
       "      <td>Free entry in 2 a wkly comp to win FA Cup fina...</td>\n",
       "      <td>spam</td>\n",
       "      <td>155</td>\n",
       "      <td>27</td>\n",
       "      <td>6</td>\n",
       "      <td>25</td>\n",
       "      <td>4</td>\n",
       "      <td>0</td>\n",
       "      <td>0</td>\n",
       "      <td>2</td>\n",
       "    </tr>\n",
       "    <tr>\n",
       "      <th>3</th>\n",
       "      <td>U dun say so early hor... U c already then say...</td>\n",
       "      <td>ham</td>\n",
       "      <td>49</td>\n",
       "      <td>11</td>\n",
       "      <td>6</td>\n",
       "      <td>0</td>\n",
       "      <td>2</td>\n",
       "      <td>0</td>\n",
       "      <td>0</td>\n",
       "      <td>0</td>\n",
       "    </tr>\n",
       "    <tr>\n",
       "      <th>4</th>\n",
       "      <td>Nah I don't think he goes to usf, he lives aro...</td>\n",
       "      <td>ham</td>\n",
       "      <td>61</td>\n",
       "      <td>13</td>\n",
       "      <td>2</td>\n",
       "      <td>0</td>\n",
       "      <td>1</td>\n",
       "      <td>0</td>\n",
       "      <td>0</td>\n",
       "      <td>0</td>\n",
       "    </tr>\n",
       "  </tbody>\n",
       "</table>\n",
       "</div>"
      ],
      "text/plain": [
       "                                                Text Result  num_chars  \\\n",
       "0  Go until jurong point, crazy.. Available only ...    ham        111   \n",
       "1                      Ok lar... Joking wif u oni...    ham         29   \n",
       "2  Free entry in 2 a wkly comp to win FA Cup fina...   spam        155   \n",
       "3  U dun say so early hor... U c already then say...    ham         49   \n",
       "4  Nah I don't think he goes to usf, he lives aro...    ham         61   \n",
       "\n",
       "   num_words  num_spec_chars  num_digits  num_Uppercase_Words  num_URLS  \\\n",
       "0         20               9           0                    0         0   \n",
       "1          6               6           0                    0         0   \n",
       "2         27               6          25                    4         0   \n",
       "3         11               6           0                    2         0   \n",
       "4         13               2           0                    1         0   \n",
       "\n",
       "   num_Emails  num_Sus_Words  \n",
       "0           0              0  \n",
       "1           0              0  \n",
       "2           0              2  \n",
       "3           0              0  \n",
       "4           0              0  "
      ]
     },
     "execution_count": 71,
     "metadata": {},
     "output_type": "execute_result"
    }
   ],
   "source": [
    "Spam_df.head()"
   ]
  },
  {
   "cell_type": "markdown",
   "id": "a1300941-6080-4468-8703-157a963779c4",
   "metadata": {},
   "source": [
    "<h2> Summary of findings</h2>"
   ]
  },
  {
   "cell_type": "markdown",
   "id": "36dd2a2d-0643-447c-b13d-537eca2b78d6",
   "metadata": {},
   "source": [
    "By examining and comparing the characteristics of spam to ham messages I have discovered quite of bit of useful information that has helped us engineer new features for our dataset. The following are the summary of my findings, along with the name of the accompanying new features:\n",
    "\n",
    "1. There are about **94%** more ***characters*** in spam messages compared to ham messages, feature-name: **num_chars**\n",
    "\n",
    "2. There are about **49%** more ***words*** in spam messages compared to ham messages, feature-name: **num_words**\n",
    "\n",
    "3. There are about **61%** more ***special-characters*** in spam messages compared to ham messages, feature-name: **num_spec_chars**\n",
    "\n",
    "4.  There are about **5082%**  more ***digits present*** in spam messages in comparison to ham messages, feature-name: **num_digits**\n",
    "  \n",
    "5. There are about **169%**  more ***uppercase-words*** present in spam messages in comparison to ham messages on average, feature-name: **num_Uppercase_Words**\n",
    " \n",
    "6. There are about **33502%**  more ***URLS*** present in spam messages in comparison to ham messages on average, feature-name: **num_URLS**\n",
    "  \n",
    "7. There are about **3777%** more ***emails*** present in spam messages in comparison to ham messages on average, feature-name: **num_Emails**\n",
    "  \n",
    "8. There are about **1023%**  more ***suspicious-words*** present in spam messages in comparison to ham messages on average, feature-name: **num_Sus_Words**\n",
    "\n",
    "The higher the difference the more likely this feature will be of great use in determining the class of a message. In this case the features with the highest differences are urls, digits and emails.   \n",
    "\n",
    "***It is importnat to note that the percentage differnece is in comparison to each other, the actual average concentration can be relatively low. For instance, the average amount of URLS in spam is around 0.14 and around 0 for ham.***"
   ]
  },
  {
   "cell_type": "markdown",
   "id": "3ed1a820-e850-4cf0-9400-308b3b481cd7",
   "metadata": {},
   "source": [
    "<h2> Save the new dataset</h2>"
   ]
  },
  {
   "cell_type": "code",
   "execution_count": 72,
   "id": "4540b069-774e-4539-b522-79352a347b6c",
   "metadata": {},
   "outputs": [],
   "source": [
    "Spam_df.to_csv('02_Spam_EDA_Phase.csv', index=False)  # index=False avoids saving the index as a column"
   ]
  },
  {
   "cell_type": "code",
   "execution_count": null,
   "id": "a9d3de58-e568-41b0-ae59-a710773e03e9",
   "metadata": {},
   "outputs": [],
   "source": []
  }
 ],
 "metadata": {
  "kernelspec": {
   "display_name": "Python [conda env:base] *",
   "language": "python",
   "name": "conda-base-py"
  },
  "language_info": {
   "codemirror_mode": {
    "name": "ipython",
    "version": 3
   },
   "file_extension": ".py",
   "mimetype": "text/x-python",
   "name": "python",
   "nbconvert_exporter": "python",
   "pygments_lexer": "ipython3",
   "version": "3.12.7"
  }
 },
 "nbformat": 4,
 "nbformat_minor": 5
}
