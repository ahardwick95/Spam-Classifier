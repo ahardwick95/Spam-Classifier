{
 "cells": [
  {
   "cell_type": "code",
   "execution_count": 1,
   "id": "0727570a-eb33-4394-994e-7a6727a3f833",
   "metadata": {},
   "outputs": [],
   "source": [
    "from sklearn.naive_bayes import MultinomialNB # A form of Naive bayes model, best for 2 or more classes for target variable\n",
    "from sklearn.linear_model import LogisticRegression\n",
    "from imblearn.over_sampling import SMOTE # for handling imbalanced classes\n",
    "from sklearn.model_selection import train_test_split\n",
    "from sklearn.metrics import confusion_matrix, accuracy_score,precision_score,recall_score,f1_score,roc_auc_score,roc_curve\n",
    "from sklearn.model_selection import cross_val_predict,StratifiedKFold\n",
    "from imblearn.pipeline import make_pipeline\n",
    "from sklearn.feature_extraction.text import CountVectorizer\n",
    "\n",
    "import warnings\n",
    "from sklearn.exceptions import ConvergenceWarning, FitFailedWarning\n",
    "import pandas as pd\n",
    "import matplotlib.pyplot as plt\n",
    "import numpy as np\n",
    "import seaborn as sns"
   ]
  },
  {
   "cell_type": "code",
   "execution_count": 2,
   "id": "7bf1e505-e29a-4510-9582-bef76b81ce9b",
   "metadata": {},
   "outputs": [],
   "source": [
    "Spam_df = pd.read_csv('03_Spam_Preprocess_Phase.csv')"
   ]
  },
  {
   "cell_type": "code",
   "execution_count": 3,
   "id": "539a91f3-94ea-4027-9a88-1de728205814",
   "metadata": {},
   "outputs": [
    {
     "data": {
      "text/html": [
       "<div>\n",
       "<style scoped>\n",
       "    .dataframe tbody tr th:only-of-type {\n",
       "        vertical-align: middle;\n",
       "    }\n",
       "\n",
       "    .dataframe tbody tr th {\n",
       "        vertical-align: top;\n",
       "    }\n",
       "\n",
       "    .dataframe thead th {\n",
       "        text-align: right;\n",
       "    }\n",
       "</style>\n",
       "<table border=\"1\" class=\"dataframe\">\n",
       "  <thead>\n",
       "    <tr style=\"text-align: right;\">\n",
       "      <th></th>\n",
       "      <th>Result</th>\n",
       "      <th>num_chars</th>\n",
       "      <th>num_words</th>\n",
       "      <th>num_spec_chars</th>\n",
       "      <th>num_digits</th>\n",
       "      <th>num_Uppercase_Words</th>\n",
       "      <th>num_URLS</th>\n",
       "      <th>num_Emails</th>\n",
       "      <th>num_Sus_Words</th>\n",
       "      <th>aah</th>\n",
       "      <th>...</th>\n",
       "      <th>zebra</th>\n",
       "      <th>zed</th>\n",
       "      <th>zeros</th>\n",
       "      <th>zf</th>\n",
       "      <th>zhong</th>\n",
       "      <th>zindgi</th>\n",
       "      <th>zoe</th>\n",
       "      <th>zogtorius</th>\n",
       "      <th>zoom</th>\n",
       "      <th>zouk</th>\n",
       "    </tr>\n",
       "  </thead>\n",
       "  <tbody>\n",
       "    <tr>\n",
       "      <th>0</th>\n",
       "      <td>0</td>\n",
       "      <td>111</td>\n",
       "      <td>20</td>\n",
       "      <td>9</td>\n",
       "      <td>0</td>\n",
       "      <td>0</td>\n",
       "      <td>0</td>\n",
       "      <td>0</td>\n",
       "      <td>0</td>\n",
       "      <td>0</td>\n",
       "      <td>...</td>\n",
       "      <td>0</td>\n",
       "      <td>0</td>\n",
       "      <td>0</td>\n",
       "      <td>0</td>\n",
       "      <td>0</td>\n",
       "      <td>0</td>\n",
       "      <td>0</td>\n",
       "      <td>0</td>\n",
       "      <td>0</td>\n",
       "      <td>0</td>\n",
       "    </tr>\n",
       "    <tr>\n",
       "      <th>1</th>\n",
       "      <td>0</td>\n",
       "      <td>29</td>\n",
       "      <td>6</td>\n",
       "      <td>6</td>\n",
       "      <td>0</td>\n",
       "      <td>0</td>\n",
       "      <td>0</td>\n",
       "      <td>0</td>\n",
       "      <td>0</td>\n",
       "      <td>0</td>\n",
       "      <td>...</td>\n",
       "      <td>0</td>\n",
       "      <td>0</td>\n",
       "      <td>0</td>\n",
       "      <td>0</td>\n",
       "      <td>0</td>\n",
       "      <td>0</td>\n",
       "      <td>0</td>\n",
       "      <td>0</td>\n",
       "      <td>0</td>\n",
       "      <td>0</td>\n",
       "    </tr>\n",
       "    <tr>\n",
       "      <th>2</th>\n",
       "      <td>1</td>\n",
       "      <td>155</td>\n",
       "      <td>27</td>\n",
       "      <td>6</td>\n",
       "      <td>25</td>\n",
       "      <td>4</td>\n",
       "      <td>0</td>\n",
       "      <td>0</td>\n",
       "      <td>2</td>\n",
       "      <td>0</td>\n",
       "      <td>...</td>\n",
       "      <td>0</td>\n",
       "      <td>0</td>\n",
       "      <td>0</td>\n",
       "      <td>0</td>\n",
       "      <td>0</td>\n",
       "      <td>0</td>\n",
       "      <td>0</td>\n",
       "      <td>0</td>\n",
       "      <td>0</td>\n",
       "      <td>0</td>\n",
       "    </tr>\n",
       "    <tr>\n",
       "      <th>3</th>\n",
       "      <td>0</td>\n",
       "      <td>49</td>\n",
       "      <td>11</td>\n",
       "      <td>6</td>\n",
       "      <td>0</td>\n",
       "      <td>2</td>\n",
       "      <td>0</td>\n",
       "      <td>0</td>\n",
       "      <td>0</td>\n",
       "      <td>0</td>\n",
       "      <td>...</td>\n",
       "      <td>0</td>\n",
       "      <td>0</td>\n",
       "      <td>0</td>\n",
       "      <td>0</td>\n",
       "      <td>0</td>\n",
       "      <td>0</td>\n",
       "      <td>0</td>\n",
       "      <td>0</td>\n",
       "      <td>0</td>\n",
       "      <td>0</td>\n",
       "    </tr>\n",
       "    <tr>\n",
       "      <th>4</th>\n",
       "      <td>0</td>\n",
       "      <td>61</td>\n",
       "      <td>13</td>\n",
       "      <td>2</td>\n",
       "      <td>0</td>\n",
       "      <td>1</td>\n",
       "      <td>0</td>\n",
       "      <td>0</td>\n",
       "      <td>0</td>\n",
       "      <td>0</td>\n",
       "      <td>...</td>\n",
       "      <td>0</td>\n",
       "      <td>0</td>\n",
       "      <td>0</td>\n",
       "      <td>0</td>\n",
       "      <td>0</td>\n",
       "      <td>0</td>\n",
       "      <td>0</td>\n",
       "      <td>0</td>\n",
       "      <td>0</td>\n",
       "      <td>0</td>\n",
       "    </tr>\n",
       "  </tbody>\n",
       "</table>\n",
       "<p>5 rows × 5009 columns</p>\n",
       "</div>"
      ],
      "text/plain": [
       "   Result  num_chars  num_words  num_spec_chars  num_digits  \\\n",
       "0       0        111         20               9           0   \n",
       "1       0         29          6               6           0   \n",
       "2       1        155         27               6          25   \n",
       "3       0         49         11               6           0   \n",
       "4       0         61         13               2           0   \n",
       "\n",
       "   num_Uppercase_Words  num_URLS  num_Emails  num_Sus_Words  aah  ...  zebra  \\\n",
       "0                    0         0           0              0    0  ...      0   \n",
       "1                    0         0           0              0    0  ...      0   \n",
       "2                    4         0           0              2    0  ...      0   \n",
       "3                    2         0           0              0    0  ...      0   \n",
       "4                    1         0           0              0    0  ...      0   \n",
       "\n",
       "   zed  zeros  zf  zhong  zindgi  zoe  zogtorius  zoom  zouk  \n",
       "0    0      0   0      0       0    0          0     0     0  \n",
       "1    0      0   0      0       0    0          0     0     0  \n",
       "2    0      0   0      0       0    0          0     0     0  \n",
       "3    0      0   0      0       0    0          0     0     0  \n",
       "4    0      0   0      0       0    0          0     0     0  \n",
       "\n",
       "[5 rows x 5009 columns]"
      ]
     },
     "execution_count": 3,
     "metadata": {},
     "output_type": "execute_result"
    }
   ],
   "source": [
    "Spam_df.head()"
   ]
  },
  {
   "cell_type": "markdown",
   "id": "71f0f100-588b-4d16-a4e5-13c178bacd45",
   "metadata": {},
   "source": [
    "<h2> Modeling</h2>\n",
    "\n",
    "During the modeling phase we will be doing A/B testing by doing the following:\n",
    "\n",
    "1. Train the naive bayes and logistic regression model on the dataset as it is, evaluate and compare results between the two models\n",
    "2. Apply SMOTE on the dataset and then train new naive bayes and logistic regression models on this new dataset and compare to each other again.\n",
    "\n",
    "The purpose of doing this is to test if engineering enough robust features can effectively eliminate or reduce the effects of class imbalance.   \n",
    "\n",
    "My reasoning for this is that imbalanced classes cause issues during modeling because the model can favor one class over another due to the size of one class eclipsing another. However, if given enough features that help to describe the minority class thoroughly , I think this shouldn't continue to be an issue."
   ]
  },
  {
   "cell_type": "markdown",
   "id": "22ddaa41-7b25-472a-8f2e-4eb8243276d0",
   "metadata": {},
   "source": [
    "<h3>Pre-SMOTE Modeling</h3>"
   ]
  },
  {
   "cell_type": "code",
   "execution_count": 4,
   "id": "2c31fbed-becd-46a6-9086-ef22dc5e3a0e",
   "metadata": {},
   "outputs": [],
   "source": [
    "# lets make the features and target variables\n",
    "Y = Spam_df['Result']\n",
    "X = Spam_df.drop(['Result'],axis = 1)"
   ]
  },
  {
   "cell_type": "code",
   "execution_count": 5,
   "id": "163d0acb-25c4-4e29-8a6b-0e7fd2222b31",
   "metadata": {},
   "outputs": [],
   "source": [
    "# X_train, X_test, Y_train, Y_test = train_test_split(X, Y,test_size=0.4,random_state=42) #80% of training, 20% for testing"
   ]
  },
  {
   "cell_type": "code",
   "execution_count": 6,
   "id": "3b6424d9-6880-4507-8649-2e69d30459ce",
   "metadata": {},
   "outputs": [],
   "source": [
    "# Lets make the models\n",
    "Bayes = MultinomialNB()\n",
    "LogReg = LogisticRegression()"
   ]
  },
  {
   "cell_type": "markdown",
   "id": "c1297d4d-079d-450f-af02-d1c09bb4c4da",
   "metadata": {},
   "source": [
    "<h4> Naive Bayes training and testing</h4>"
   ]
  },
  {
   "cell_type": "code",
   "execution_count": 7,
   "id": "f49e1a91-f167-442a-bbba-cdbf279976c5",
   "metadata": {},
   "outputs": [],
   "source": [
    "Y_pred = cross_val_predict(Bayes, X, Y, cv=5)"
   ]
  },
  {
   "cell_type": "code",
   "execution_count": 8,
   "id": "7768d676-7c91-4071-bacb-480c91d56dcc",
   "metadata": {},
   "outputs": [
    {
     "name": "stdout",
     "output_type": "stream",
     "text": [
      "Precision: 0.9556786703601108\n",
      "Recall: 0.9236947791164659\n",
      "F1-score: 0.9394145677331518\n"
     ]
    }
   ],
   "source": [
    "precision_Bayes = precision_score(Y, Y_pred, average='binary', pos_label=1)  \n",
    "recall_Bayes = recall_score(Y, Y_pred, average='binary',pos_label=1)       \n",
    "f1_Bayes = f1_score(Y, Y_pred, average='binary',pos_label=1)               \n",
    "\n",
    "print(\"Precision:\", precision_Bayes)\n",
    "print(\"Recall:\", recall_Bayes)\n",
    "print(\"F1-score:\", f1_Bayes)"
   ]
  },
  {
   "cell_type": "markdown",
   "id": "c4f95001-e29d-4800-8fc0-ea4b44f64b5d",
   "metadata": {},
   "source": [
    "Based on the cross-validation performed, it seems our naive bayes model performs well on its own without applying SMOTE. We used 'binary' and 'pos_label =1' in our metrics for Precision, Recall and F1 to speccifically judge if the model performs well at finding and identifying spam.  \n",
    "\n",
    "If we had used 'weighted' the results would be good for **generalization** but the ham class being 87% of the dataset could could give a false sense of success."
   ]
  },
  {
   "cell_type": "code",
   "execution_count": 9,
   "id": "f2a36227-6c0f-43d8-913f-07fde03bdcbf",
   "metadata": {},
   "outputs": [
    {
     "data": {
      "text/html": [
       "<style>#sk-container-id-1 {\n",
       "  /* Definition of color scheme common for light and dark mode */\n",
       "  --sklearn-color-text: black;\n",
       "  --sklearn-color-line: gray;\n",
       "  /* Definition of color scheme for unfitted estimators */\n",
       "  --sklearn-color-unfitted-level-0: #fff5e6;\n",
       "  --sklearn-color-unfitted-level-1: #f6e4d2;\n",
       "  --sklearn-color-unfitted-level-2: #ffe0b3;\n",
       "  --sklearn-color-unfitted-level-3: chocolate;\n",
       "  /* Definition of color scheme for fitted estimators */\n",
       "  --sklearn-color-fitted-level-0: #f0f8ff;\n",
       "  --sklearn-color-fitted-level-1: #d4ebff;\n",
       "  --sklearn-color-fitted-level-2: #b3dbfd;\n",
       "  --sklearn-color-fitted-level-3: cornflowerblue;\n",
       "\n",
       "  /* Specific color for light theme */\n",
       "  --sklearn-color-text-on-default-background: var(--sg-text-color, var(--theme-code-foreground, var(--jp-content-font-color1, black)));\n",
       "  --sklearn-color-background: var(--sg-background-color, var(--theme-background, var(--jp-layout-color0, white)));\n",
       "  --sklearn-color-border-box: var(--sg-text-color, var(--theme-code-foreground, var(--jp-content-font-color1, black)));\n",
       "  --sklearn-color-icon: #696969;\n",
       "\n",
       "  @media (prefers-color-scheme: dark) {\n",
       "    /* Redefinition of color scheme for dark theme */\n",
       "    --sklearn-color-text-on-default-background: var(--sg-text-color, var(--theme-code-foreground, var(--jp-content-font-color1, white)));\n",
       "    --sklearn-color-background: var(--sg-background-color, var(--theme-background, var(--jp-layout-color0, #111)));\n",
       "    --sklearn-color-border-box: var(--sg-text-color, var(--theme-code-foreground, var(--jp-content-font-color1, white)));\n",
       "    --sklearn-color-icon: #878787;\n",
       "  }\n",
       "}\n",
       "\n",
       "#sk-container-id-1 {\n",
       "  color: var(--sklearn-color-text);\n",
       "}\n",
       "\n",
       "#sk-container-id-1 pre {\n",
       "  padding: 0;\n",
       "}\n",
       "\n",
       "#sk-container-id-1 input.sk-hidden--visually {\n",
       "  border: 0;\n",
       "  clip: rect(1px 1px 1px 1px);\n",
       "  clip: rect(1px, 1px, 1px, 1px);\n",
       "  height: 1px;\n",
       "  margin: -1px;\n",
       "  overflow: hidden;\n",
       "  padding: 0;\n",
       "  position: absolute;\n",
       "  width: 1px;\n",
       "}\n",
       "\n",
       "#sk-container-id-1 div.sk-dashed-wrapped {\n",
       "  border: 1px dashed var(--sklearn-color-line);\n",
       "  margin: 0 0.4em 0.5em 0.4em;\n",
       "  box-sizing: border-box;\n",
       "  padding-bottom: 0.4em;\n",
       "  background-color: var(--sklearn-color-background);\n",
       "}\n",
       "\n",
       "#sk-container-id-1 div.sk-container {\n",
       "  /* jupyter's `normalize.less` sets `[hidden] { display: none; }`\n",
       "     but bootstrap.min.css set `[hidden] { display: none !important; }`\n",
       "     so we also need the `!important` here to be able to override the\n",
       "     default hidden behavior on the sphinx rendered scikit-learn.org.\n",
       "     See: https://github.com/scikit-learn/scikit-learn/issues/21755 */\n",
       "  display: inline-block !important;\n",
       "  position: relative;\n",
       "}\n",
       "\n",
       "#sk-container-id-1 div.sk-text-repr-fallback {\n",
       "  display: none;\n",
       "}\n",
       "\n",
       "div.sk-parallel-item,\n",
       "div.sk-serial,\n",
       "div.sk-item {\n",
       "  /* draw centered vertical line to link estimators */\n",
       "  background-image: linear-gradient(var(--sklearn-color-text-on-default-background), var(--sklearn-color-text-on-default-background));\n",
       "  background-size: 2px 100%;\n",
       "  background-repeat: no-repeat;\n",
       "  background-position: center center;\n",
       "}\n",
       "\n",
       "/* Parallel-specific style estimator block */\n",
       "\n",
       "#sk-container-id-1 div.sk-parallel-item::after {\n",
       "  content: \"\";\n",
       "  width: 100%;\n",
       "  border-bottom: 2px solid var(--sklearn-color-text-on-default-background);\n",
       "  flex-grow: 1;\n",
       "}\n",
       "\n",
       "#sk-container-id-1 div.sk-parallel {\n",
       "  display: flex;\n",
       "  align-items: stretch;\n",
       "  justify-content: center;\n",
       "  background-color: var(--sklearn-color-background);\n",
       "  position: relative;\n",
       "}\n",
       "\n",
       "#sk-container-id-1 div.sk-parallel-item {\n",
       "  display: flex;\n",
       "  flex-direction: column;\n",
       "}\n",
       "\n",
       "#sk-container-id-1 div.sk-parallel-item:first-child::after {\n",
       "  align-self: flex-end;\n",
       "  width: 50%;\n",
       "}\n",
       "\n",
       "#sk-container-id-1 div.sk-parallel-item:last-child::after {\n",
       "  align-self: flex-start;\n",
       "  width: 50%;\n",
       "}\n",
       "\n",
       "#sk-container-id-1 div.sk-parallel-item:only-child::after {\n",
       "  width: 0;\n",
       "}\n",
       "\n",
       "/* Serial-specific style estimator block */\n",
       "\n",
       "#sk-container-id-1 div.sk-serial {\n",
       "  display: flex;\n",
       "  flex-direction: column;\n",
       "  align-items: center;\n",
       "  background-color: var(--sklearn-color-background);\n",
       "  padding-right: 1em;\n",
       "  padding-left: 1em;\n",
       "}\n",
       "\n",
       "\n",
       "/* Toggleable style: style used for estimator/Pipeline/ColumnTransformer box that is\n",
       "clickable and can be expanded/collapsed.\n",
       "- Pipeline and ColumnTransformer use this feature and define the default style\n",
       "- Estimators will overwrite some part of the style using the `sk-estimator` class\n",
       "*/\n",
       "\n",
       "/* Pipeline and ColumnTransformer style (default) */\n",
       "\n",
       "#sk-container-id-1 div.sk-toggleable {\n",
       "  /* Default theme specific background. It is overwritten whether we have a\n",
       "  specific estimator or a Pipeline/ColumnTransformer */\n",
       "  background-color: var(--sklearn-color-background);\n",
       "}\n",
       "\n",
       "/* Toggleable label */\n",
       "#sk-container-id-1 label.sk-toggleable__label {\n",
       "  cursor: pointer;\n",
       "  display: block;\n",
       "  width: 100%;\n",
       "  margin-bottom: 0;\n",
       "  padding: 0.5em;\n",
       "  box-sizing: border-box;\n",
       "  text-align: center;\n",
       "}\n",
       "\n",
       "#sk-container-id-1 label.sk-toggleable__label-arrow:before {\n",
       "  /* Arrow on the left of the label */\n",
       "  content: \"▸\";\n",
       "  float: left;\n",
       "  margin-right: 0.25em;\n",
       "  color: var(--sklearn-color-icon);\n",
       "}\n",
       "\n",
       "#sk-container-id-1 label.sk-toggleable__label-arrow:hover:before {\n",
       "  color: var(--sklearn-color-text);\n",
       "}\n",
       "\n",
       "/* Toggleable content - dropdown */\n",
       "\n",
       "#sk-container-id-1 div.sk-toggleable__content {\n",
       "  max-height: 0;\n",
       "  max-width: 0;\n",
       "  overflow: hidden;\n",
       "  text-align: left;\n",
       "  /* unfitted */\n",
       "  background-color: var(--sklearn-color-unfitted-level-0);\n",
       "}\n",
       "\n",
       "#sk-container-id-1 div.sk-toggleable__content.fitted {\n",
       "  /* fitted */\n",
       "  background-color: var(--sklearn-color-fitted-level-0);\n",
       "}\n",
       "\n",
       "#sk-container-id-1 div.sk-toggleable__content pre {\n",
       "  margin: 0.2em;\n",
       "  border-radius: 0.25em;\n",
       "  color: var(--sklearn-color-text);\n",
       "  /* unfitted */\n",
       "  background-color: var(--sklearn-color-unfitted-level-0);\n",
       "}\n",
       "\n",
       "#sk-container-id-1 div.sk-toggleable__content.fitted pre {\n",
       "  /* unfitted */\n",
       "  background-color: var(--sklearn-color-fitted-level-0);\n",
       "}\n",
       "\n",
       "#sk-container-id-1 input.sk-toggleable__control:checked~div.sk-toggleable__content {\n",
       "  /* Expand drop-down */\n",
       "  max-height: 200px;\n",
       "  max-width: 100%;\n",
       "  overflow: auto;\n",
       "}\n",
       "\n",
       "#sk-container-id-1 input.sk-toggleable__control:checked~label.sk-toggleable__label-arrow:before {\n",
       "  content: \"▾\";\n",
       "}\n",
       "\n",
       "/* Pipeline/ColumnTransformer-specific style */\n",
       "\n",
       "#sk-container-id-1 div.sk-label input.sk-toggleable__control:checked~label.sk-toggleable__label {\n",
       "  color: var(--sklearn-color-text);\n",
       "  background-color: var(--sklearn-color-unfitted-level-2);\n",
       "}\n",
       "\n",
       "#sk-container-id-1 div.sk-label.fitted input.sk-toggleable__control:checked~label.sk-toggleable__label {\n",
       "  background-color: var(--sklearn-color-fitted-level-2);\n",
       "}\n",
       "\n",
       "/* Estimator-specific style */\n",
       "\n",
       "/* Colorize estimator box */\n",
       "#sk-container-id-1 div.sk-estimator input.sk-toggleable__control:checked~label.sk-toggleable__label {\n",
       "  /* unfitted */\n",
       "  background-color: var(--sklearn-color-unfitted-level-2);\n",
       "}\n",
       "\n",
       "#sk-container-id-1 div.sk-estimator.fitted input.sk-toggleable__control:checked~label.sk-toggleable__label {\n",
       "  /* fitted */\n",
       "  background-color: var(--sklearn-color-fitted-level-2);\n",
       "}\n",
       "\n",
       "#sk-container-id-1 div.sk-label label.sk-toggleable__label,\n",
       "#sk-container-id-1 div.sk-label label {\n",
       "  /* The background is the default theme color */\n",
       "  color: var(--sklearn-color-text-on-default-background);\n",
       "}\n",
       "\n",
       "/* On hover, darken the color of the background */\n",
       "#sk-container-id-1 div.sk-label:hover label.sk-toggleable__label {\n",
       "  color: var(--sklearn-color-text);\n",
       "  background-color: var(--sklearn-color-unfitted-level-2);\n",
       "}\n",
       "\n",
       "/* Label box, darken color on hover, fitted */\n",
       "#sk-container-id-1 div.sk-label.fitted:hover label.sk-toggleable__label.fitted {\n",
       "  color: var(--sklearn-color-text);\n",
       "  background-color: var(--sklearn-color-fitted-level-2);\n",
       "}\n",
       "\n",
       "/* Estimator label */\n",
       "\n",
       "#sk-container-id-1 div.sk-label label {\n",
       "  font-family: monospace;\n",
       "  font-weight: bold;\n",
       "  display: inline-block;\n",
       "  line-height: 1.2em;\n",
       "}\n",
       "\n",
       "#sk-container-id-1 div.sk-label-container {\n",
       "  text-align: center;\n",
       "}\n",
       "\n",
       "/* Estimator-specific */\n",
       "#sk-container-id-1 div.sk-estimator {\n",
       "  font-family: monospace;\n",
       "  border: 1px dotted var(--sklearn-color-border-box);\n",
       "  border-radius: 0.25em;\n",
       "  box-sizing: border-box;\n",
       "  margin-bottom: 0.5em;\n",
       "  /* unfitted */\n",
       "  background-color: var(--sklearn-color-unfitted-level-0);\n",
       "}\n",
       "\n",
       "#sk-container-id-1 div.sk-estimator.fitted {\n",
       "  /* fitted */\n",
       "  background-color: var(--sklearn-color-fitted-level-0);\n",
       "}\n",
       "\n",
       "/* on hover */\n",
       "#sk-container-id-1 div.sk-estimator:hover {\n",
       "  /* unfitted */\n",
       "  background-color: var(--sklearn-color-unfitted-level-2);\n",
       "}\n",
       "\n",
       "#sk-container-id-1 div.sk-estimator.fitted:hover {\n",
       "  /* fitted */\n",
       "  background-color: var(--sklearn-color-fitted-level-2);\n",
       "}\n",
       "\n",
       "/* Specification for estimator info (e.g. \"i\" and \"?\") */\n",
       "\n",
       "/* Common style for \"i\" and \"?\" */\n",
       "\n",
       ".sk-estimator-doc-link,\n",
       "a:link.sk-estimator-doc-link,\n",
       "a:visited.sk-estimator-doc-link {\n",
       "  float: right;\n",
       "  font-size: smaller;\n",
       "  line-height: 1em;\n",
       "  font-family: monospace;\n",
       "  background-color: var(--sklearn-color-background);\n",
       "  border-radius: 1em;\n",
       "  height: 1em;\n",
       "  width: 1em;\n",
       "  text-decoration: none !important;\n",
       "  margin-left: 1ex;\n",
       "  /* unfitted */\n",
       "  border: var(--sklearn-color-unfitted-level-1) 1pt solid;\n",
       "  color: var(--sklearn-color-unfitted-level-1);\n",
       "}\n",
       "\n",
       ".sk-estimator-doc-link.fitted,\n",
       "a:link.sk-estimator-doc-link.fitted,\n",
       "a:visited.sk-estimator-doc-link.fitted {\n",
       "  /* fitted */\n",
       "  border: var(--sklearn-color-fitted-level-1) 1pt solid;\n",
       "  color: var(--sklearn-color-fitted-level-1);\n",
       "}\n",
       "\n",
       "/* On hover */\n",
       "div.sk-estimator:hover .sk-estimator-doc-link:hover,\n",
       ".sk-estimator-doc-link:hover,\n",
       "div.sk-label-container:hover .sk-estimator-doc-link:hover,\n",
       ".sk-estimator-doc-link:hover {\n",
       "  /* unfitted */\n",
       "  background-color: var(--sklearn-color-unfitted-level-3);\n",
       "  color: var(--sklearn-color-background);\n",
       "  text-decoration: none;\n",
       "}\n",
       "\n",
       "div.sk-estimator.fitted:hover .sk-estimator-doc-link.fitted:hover,\n",
       ".sk-estimator-doc-link.fitted:hover,\n",
       "div.sk-label-container:hover .sk-estimator-doc-link.fitted:hover,\n",
       ".sk-estimator-doc-link.fitted:hover {\n",
       "  /* fitted */\n",
       "  background-color: var(--sklearn-color-fitted-level-3);\n",
       "  color: var(--sklearn-color-background);\n",
       "  text-decoration: none;\n",
       "}\n",
       "\n",
       "/* Span, style for the box shown on hovering the info icon */\n",
       ".sk-estimator-doc-link span {\n",
       "  display: none;\n",
       "  z-index: 9999;\n",
       "  position: relative;\n",
       "  font-weight: normal;\n",
       "  right: .2ex;\n",
       "  padding: .5ex;\n",
       "  margin: .5ex;\n",
       "  width: min-content;\n",
       "  min-width: 20ex;\n",
       "  max-width: 50ex;\n",
       "  color: var(--sklearn-color-text);\n",
       "  box-shadow: 2pt 2pt 4pt #999;\n",
       "  /* unfitted */\n",
       "  background: var(--sklearn-color-unfitted-level-0);\n",
       "  border: .5pt solid var(--sklearn-color-unfitted-level-3);\n",
       "}\n",
       "\n",
       ".sk-estimator-doc-link.fitted span {\n",
       "  /* fitted */\n",
       "  background: var(--sklearn-color-fitted-level-0);\n",
       "  border: var(--sklearn-color-fitted-level-3);\n",
       "}\n",
       "\n",
       ".sk-estimator-doc-link:hover span {\n",
       "  display: block;\n",
       "}\n",
       "\n",
       "/* \"?\"-specific style due to the `<a>` HTML tag */\n",
       "\n",
       "#sk-container-id-1 a.estimator_doc_link {\n",
       "  float: right;\n",
       "  font-size: 1rem;\n",
       "  line-height: 1em;\n",
       "  font-family: monospace;\n",
       "  background-color: var(--sklearn-color-background);\n",
       "  border-radius: 1rem;\n",
       "  height: 1rem;\n",
       "  width: 1rem;\n",
       "  text-decoration: none;\n",
       "  /* unfitted */\n",
       "  color: var(--sklearn-color-unfitted-level-1);\n",
       "  border: var(--sklearn-color-unfitted-level-1) 1pt solid;\n",
       "}\n",
       "\n",
       "#sk-container-id-1 a.estimator_doc_link.fitted {\n",
       "  /* fitted */\n",
       "  border: var(--sklearn-color-fitted-level-1) 1pt solid;\n",
       "  color: var(--sklearn-color-fitted-level-1);\n",
       "}\n",
       "\n",
       "/* On hover */\n",
       "#sk-container-id-1 a.estimator_doc_link:hover {\n",
       "  /* unfitted */\n",
       "  background-color: var(--sklearn-color-unfitted-level-3);\n",
       "  color: var(--sklearn-color-background);\n",
       "  text-decoration: none;\n",
       "}\n",
       "\n",
       "#sk-container-id-1 a.estimator_doc_link.fitted:hover {\n",
       "  /* fitted */\n",
       "  background-color: var(--sklearn-color-fitted-level-3);\n",
       "}\n",
       "</style><div id=\"sk-container-id-1\" class=\"sk-top-container\"><div class=\"sk-text-repr-fallback\"><pre>MultinomialNB()</pre><b>In a Jupyter environment, please rerun this cell to show the HTML representation or trust the notebook. <br />On GitHub, the HTML representation is unable to render, please try loading this page with nbviewer.org.</b></div><div class=\"sk-container\" hidden><div class=\"sk-item\"><div class=\"sk-estimator fitted sk-toggleable\"><input class=\"sk-toggleable__control sk-hidden--visually\" id=\"sk-estimator-id-1\" type=\"checkbox\" checked><label for=\"sk-estimator-id-1\" class=\"sk-toggleable__label fitted sk-toggleable__label-arrow fitted\">&nbsp;&nbsp;MultinomialNB<a class=\"sk-estimator-doc-link fitted\" rel=\"noreferrer\" target=\"_blank\" href=\"https://scikit-learn.org/1.5/modules/generated/sklearn.naive_bayes.MultinomialNB.html\">?<span>Documentation for MultinomialNB</span></a><span class=\"sk-estimator-doc-link fitted\">i<span>Fitted</span></span></label><div class=\"sk-toggleable__content fitted\"><pre>MultinomialNB()</pre></div> </div></div></div></div>"
      ],
      "text/plain": [
       "MultinomialNB()"
      ]
     },
     "execution_count": 9,
     "metadata": {},
     "output_type": "execute_result"
    }
   ],
   "source": [
    "#Im going to go on and train the bayes model on the entire dataset \n",
    "#and see how well it performs from there, the cross_val_predict doesnt traina and save the model\n",
    "Bayes.fit(X,Y)"
   ]
  },
  {
   "cell_type": "code",
   "execution_count": 10,
   "id": "34066736-73d1-47db-b2cb-fee32ae69131",
   "metadata": {},
   "outputs": [],
   "source": [
    "Y_Pred_Final = Bayes.predict(X)"
   ]
  },
  {
   "cell_type": "code",
   "execution_count": 11,
   "id": "cc0293a3-0cee-41c2-84b1-a455d7f1a13f",
   "metadata": {},
   "outputs": [
    {
     "name": "stdout",
     "output_type": "stream",
     "text": [
      "Precision: 0.9619565217391305\n",
      "Recall: 0.9477911646586346\n",
      "F1-score: 0.9548213081591369\n"
     ]
    }
   ],
   "source": [
    "precision_Bayes_Final = precision_score(Y, Y_Pred_Final, average='binary', pos_label=1)  \n",
    "recall_Bayes_Final = recall_score(Y, Y_Pred_Final, average='binary', pos_label=1)       \n",
    "f1_Bayes_Final = f1_score(Y, Y_Pred_Final, average='binary', pos_label=1)               \n",
    "\n",
    "print(\"Precision:\", precision_Bayes_Final)\n",
    "print(\"Recall:\", recall_Bayes_Final)\n",
    "print(\"F1-score:\", f1_Bayes_Final)"
   ]
  },
  {
   "cell_type": "code",
   "execution_count": 12,
   "id": "30a9c911-8e5a-4864-950b-9b81578ae41f",
   "metadata": {},
   "outputs": [
    {
     "data": {
      "image/png": "[encoded data removed]",
      "text/plain": [
       "<Figure size 800x600 with 2 Axes>"
      ]
     },
     "metadata": {},
     "output_type": "display_data"
    }
   ],
   "source": [
    "cm = confusion_matrix(Y, Y_Pred_Final)\n",
    "plt.figure(figsize=(8, 6))\n",
    "sns.heatmap(cm, annot=True, fmt='d', cmap='Blues')\n",
    "plt.title('Confusion Matrix')\n",
    "plt.ylabel('Actual')\n",
    "plt.xlabel('Predicted')\n",
    "plt.show()"
   ]
  },
  {
   "cell_type": "markdown",
   "id": "62eb6fd2-b021-40bf-b1c8-d79ade8aba69",
   "metadata": {},
   "source": [
    "<h4> Logistic Regression training and testing</h4>"
   ]
  },
  {
   "cell_type": "code",
   "execution_count": 13,
   "id": "19f74187-f909-4609-aa48-9c37af6d8668",
   "metadata": {},
   "outputs": [],
   "source": [
    "with warnings.catch_warnings():\n",
    "    # Filter specific warnings (recommended)\n",
    "    warnings.filterwarnings('ignore', category=ConvergenceWarning)\n",
    "    warnings.filterwarnings('ignore', category=FitFailedWarning)\n",
    "    Y_pred_log = cross_val_predict(LogReg, X, Y, cv=5)"
   ]
  },
  {
   "cell_type": "code",
   "execution_count": 14,
   "id": "5691212b-0099-4c5e-8053-ffbd13a70962",
   "metadata": {},
   "outputs": [
    {
     "name": "stdout",
     "output_type": "stream",
     "text": [
      "Precision: 0.9743589743589743\n",
      "Recall: 0.9156626506024096\n",
      "F1-score: 0.9440993788819876\n"
     ]
    }
   ],
   "source": [
    "precision_log = precision_score(Y, Y_pred_log, average='binary', pos_label=1)\n",
    "recall_log = recall_score(Y, Y_pred_log, average='binary', pos_label=1)       \n",
    "f1_log = f1_score(Y, Y_pred_log, average='binary', pos_label=1)               \n",
    "\n",
    "print(\"Precision:\", precision_log)\n",
    "print(\"Recall:\", recall_log)\n",
    "print(\"F1-score:\", f1_log)"
   ]
  },
  {
   "cell_type": "code",
   "execution_count": 15,
   "id": "7344880b-35ab-49dc-844d-7c60a0607691",
   "metadata": {},
   "outputs": [],
   "source": [
    "with warnings.catch_warnings():\n",
    "    # Filter specific warnings (recommended)\n",
    "    warnings.filterwarnings('ignore', category=ConvergenceWarning)\n",
    "    warnings.filterwarnings('ignore', category=FitFailedWarning)\n",
    "    LogReg.fit(X,Y)\n",
    "    Y_Pred_Log_Final = LogReg.predict(X)"
   ]
  },
  {
   "cell_type": "code",
   "execution_count": 16,
   "id": "d5a943c4-b20b-47d4-aa19-ce2f73ede380",
   "metadata": {},
   "outputs": [
    {
     "name": "stdout",
     "output_type": "stream",
     "text": [
      "Precision: 0.9902370990237099\n",
      "Recall: 0.9504685408299867\n",
      "F1-score: 0.9699453551912568\n"
     ]
    }
   ],
   "source": [
    "precision_log_Final = precision_score(Y, Y_Pred_Log_Final, average='binary', pos_label=1)\n",
    "recall_log_Final = recall_score(Y, Y_Pred_Log_Final, average='binary', pos_label=1)       \n",
    "f1_log_Final = f1_score(Y, Y_Pred_Log_Final, average='binary', pos_label=1)               \n",
    "\n",
    "print(\"Precision:\", precision_log_Final)\n",
    "print(\"Recall:\", recall_log_Final)\n",
    "print(\"F1-score:\", f1_log_Final)"
   ]
  },
  {
   "cell_type": "code",
   "execution_count": 17,
   "id": "98fd1e11-e9b2-4bb3-bcc1-8f5ef6c281dc",
   "metadata": {},
   "outputs": [
    {
     "data": {
      "image/png": "[encoded data removed]",
      "text/plain": [
       "<Figure size 800x600 with 2 Axes>"
      ]
     },
     "metadata": {},
     "output_type": "display_data"
    }
   ],
   "source": [
    "cm = confusion_matrix(Y, Y_Pred_Log_Final)\n",
    "plt.figure(figsize=(8, 6))\n",
    "sns.heatmap(cm, annot=True, fmt='d', cmap='Reds')\n",
    "plt.title('Confusion Matrix')\n",
    "plt.ylabel('Actual')\n",
    "plt.xlabel('Predicted')\n",
    "plt.show()"
   ]
  },
  {
   "cell_type": "markdown",
   "id": "13c81b5f-32aa-40be-b17e-24481cceb371",
   "metadata": {},
   "source": [
    "<h4>  Side-by-side Bar Chart , Naive Bayes vs Logistic Regression ,Pre-SMOTE</h4>"
   ]
  },
  {
   "cell_type": "code",
   "execution_count": 18,
   "id": "f960c2b4-1b38-497b-8836-b1b3b7a16b68",
   "metadata": {},
   "outputs": [
    {
     "data": {
      "image/png": "[encoded data removed]",
      "text/plain": [
       "<Figure size 800x500 with 1 Axes>"
      ]
     },
     "metadata": {},
     "output_type": "display_data"
    }
   ],
   "source": [
    "metrics = ['Precision', 'Recall', 'F1-Score']\n",
    "\n",
    "Naive_Bayes_Scores = [precision_Bayes_Final,recall_Bayes_Final,f1_Bayes_Final]\n",
    "LogReg_Scores = [precision_log_Final,recall_log_Final,f1_log_Final]\n",
    "\n",
    "# Positions and width for bars\n",
    "x = np.arange(len(metrics))  # [0, 1, 2]\n",
    "width = 0.35  # Width of each bar\n",
    "\n",
    "# Plotting\n",
    "fig, ax = plt.subplots(figsize=(8, 5))\n",
    "bars_a = ax.bar(x - width/2, Naive_Bayes_Scores, width, label='Naive Bayes', color='#1f77b4')\n",
    "bars_b = ax.bar(x + width/2, LogReg_Scores, width, label='LogReg', color='#ff7f0e')\n",
    "\n",
    "# Customize the plot\n",
    "ax.set_xticks(x)\n",
    "ax.set_xticklabels(metrics, fontsize=12)\n",
    "ax.set_ylabel('Score', fontsize=12)\n",
    "ax.set_title('Model Comparison for Spam: Precision, Recall, F1-Score (Pre-SMOTE)', fontsize=14, pad=15)\n",
    "ax.legend(fontsize=12)\n",
    "ax.grid(axis='y', linestyle='--', alpha=0.7)\n",
    "\n",
    "# Add value labels on top of bars\n",
    "def add_labels(bars):\n",
    "    for bar in bars:\n",
    "        height = bar.get_height()\n",
    "        ax.annotate(f'{height:.2f}',\n",
    "                    xy=(bar.get_x() + bar.get_width() / 2, height),\n",
    "                    xytext=(0, 3),  # 3 points vertical offset\n",
    "                    textcoords=\"offset points\",\n",
    "                    ha='center', va='bottom', fontsize=10)\n",
    "\n",
    "add_labels(bars_a)\n",
    "add_labels(bars_b)\n",
    "\n",
    "plt.tight_layout()\n",
    "plt.show()\n",
    "\n"
   ]
  },
  {
   "cell_type": "markdown",
   "id": "5e0f4908-b444-4ebd-a2b8-68cd202daf70",
   "metadata": {},
   "source": [
    "<h4> Summary of Pre-SMOTE modeling </h4>"
   ]
  },
  {
   "cell_type": "markdown",
   "id": "259f0c8b-8eb2-4910-bb92-3ffe77e2dc02",
   "metadata": {},
   "source": [
    "Based on the model comparision bar chart, we can see that both the naive bayes and logistic regression model has done relatively well on the dataset. Overall, the logistic regression model has done the best. Recall measures how well the model is at **detecting** spam. Precision measures how well the model **labels** the spam it found.  \n",
    "\n",
    "In this regard, F1-Score is particularly important in that is balances the precision and recall metrics. Lets continue the tsting and apply SMOTE.\n"
   ]
  },
  {
   "cell_type": "markdown",
   "id": "d2e165b7-7b4d-4cc4-944b-1d8fac150ff5",
   "metadata": {},
   "source": [
    "<h3> SMOTE Modeling</h3>"
   ]
  },
  {
   "cell_type": "code",
   "execution_count": 19,
   "id": "2f991cd2-5818-4bca-90e9-ed8b7abeed06",
   "metadata": {},
   "outputs": [],
   "source": [
    "# lets make new models to be used with smote\n",
    "Bayes_SMOTE = MultinomialNB()\n",
    "LogReg_SMOTE = LogisticRegression()"
   ]
  },
  {
   "cell_type": "markdown",
   "id": "76bb33dd-29b0-41b7-a6ba-1e935b072def",
   "metadata": {},
   "source": [
    "<h4> Naive Bayes training and testing (SMOTE)</h4>"
   ]
  },
  {
   "cell_type": "code",
   "execution_count": 20,
   "id": "f74d7207-9997-4dfe-9d41-5a654a9e56ab",
   "metadata": {},
   "outputs": [],
   "source": [
    "# Lets initialize SMOTE , then apply it to our model as we make a pipeline classifier\n",
    "smote = SMOTE(random_state = 42)\n",
    "Bayes_Pipeline = make_pipeline(smote,Bayes_SMOTE)"
   ]
  },
  {
   "cell_type": "code",
   "execution_count": 21,
   "id": "ba0da2c0-09aa-407c-adc2-64a7e3d5ecfd",
   "metadata": {},
   "outputs": [],
   "source": [
    "# we will use stratifield K fold to preserve class distribution\n",
    "cv = StratifiedKFold(n_splits=5, shuffle=True, random_state=42)"
   ]
  },
  {
   "cell_type": "code",
   "execution_count": 22,
   "id": "78f06797-c543-43ec-bca8-70acf63bf240",
   "metadata": {},
   "outputs": [],
   "source": [
    "# lets perform cross validation on our model\n",
    "y_pred_Bayes = cross_val_predict(Bayes_Pipeline, X, Y, cv=cv, n_jobs=-1)"
   ]
  },
  {
   "cell_type": "code",
   "execution_count": 23,
   "id": "469ee93a-e3e4-4203-8bc6-84073687fcfb",
   "metadata": {},
   "outputs": [
    {
     "name": "stdout",
     "output_type": "stream",
     "text": [
      "Precision: 0.9373297002724795\n",
      "Recall: 0.9210174029451138\n",
      "F1-score: 0.9291019581363943\n"
     ]
    }
   ],
   "source": [
    "precision_Bayes_SMOTE = precision_score(Y, y_pred_Bayes, average='binary', pos_label=1)  \n",
    "recall_Bayes_SMOTE = recall_score(Y, y_pred_Bayes, average='binary', pos_label=1)       \n",
    "f1_Bayes_SMOTE = f1_score(Y, y_pred_Bayes, average='binary', pos_label=1)               \n",
    "\n",
    "print(\"Precision:\", precision_Bayes_SMOTE)\n",
    "print(\"Recall:\", recall_Bayes_SMOTE)\n",
    "print(\"F1-score:\", f1_Bayes_SMOTE)"
   ]
  },
  {
   "cell_type": "code",
   "execution_count": 24,
   "id": "53fc82fe-bceb-4381-bec7-ca4486bc8264",
   "metadata": {},
   "outputs": [],
   "source": [
    "# LEts fit the model to the data and gather the metrics again\n",
    "Bayes_Pipeline.fit(X,Y)\n",
    "Y_Pred_SMOTE_Final = Bayes_Pipeline.predict(X)"
   ]
  },
  {
   "cell_type": "code",
   "execution_count": 25,
   "id": "4203f28b-7396-4aa6-be5d-8a4e8783894d",
   "metadata": {},
   "outputs": [
    {
     "name": "stdout",
     "output_type": "stream",
     "text": [
      "Precision: 0.952054794520548\n",
      "Recall: 0.9303882195448461\n",
      "F1-score: 0.9410968178740691\n"
     ]
    }
   ],
   "source": [
    "precision_Bayes_SMOTE_Final = precision_score(Y, Y_Pred_SMOTE_Final, average='binary', pos_label=1)  \n",
    "recall_Bayes_SMOTE_Final = recall_score(Y, Y_Pred_SMOTE_Final, average='binary', pos_label=1)       \n",
    "f1_Bayes_SMOTE_Final = f1_score(Y, Y_Pred_SMOTE_Final, average='binary', pos_label=1)               \n",
    "\n",
    "print(\"Precision:\", precision_Bayes_SMOTE_Final)\n",
    "print(\"Recall:\", recall_Bayes_SMOTE_Final)\n",
    "print(\"F1-score:\", f1_Bayes_SMOTE_Final)"
   ]
  },
  {
   "cell_type": "code",
   "execution_count": 26,
   "id": "c9050ed7-b5e4-4398-8efa-54cdfc6ace5f",
   "metadata": {},
   "outputs": [
    {
     "data": {
      "image/png": "[encoded data removed]",
      "text/plain": [
       "<Figure size 800x600 with 2 Axes>"
      ]
     },
     "metadata": {},
     "output_type": "display_data"
    }
   ],
   "source": [
    "cm = confusion_matrix(Y, Y_Pred_SMOTE_Final)\n",
    "plt.figure(figsize=(8, 6))\n",
    "sns.heatmap(cm, annot=True, fmt='d', cmap='Blues')\n",
    "plt.title('Confusion Matrix')\n",
    "plt.ylabel('Actual')\n",
    "plt.xlabel('Predicted')\n",
    "plt.show()"
   ]
  },
  {
   "cell_type": "markdown",
   "id": "f39e281f-3de7-4c89-b3be-a08cb3215c5e",
   "metadata": {},
   "source": [
    "<h4> Logistic regression training and testing (SMOTE)</h4>"
   ]
  },
  {
   "cell_type": "code",
   "execution_count": 27,
   "id": "59e097eb-80d7-4589-a22e-2dda9c3ca910",
   "metadata": {},
   "outputs": [],
   "source": [
    "# Lets initialize SMOTE , then apply it to our model as we make a pipeline classifier\n",
    "smote = SMOTE(random_state = 42)\n",
    "LogReg_Pipeline = make_pipeline(smote,LogReg_SMOTE)"
   ]
  },
  {
   "cell_type": "code",
   "execution_count": 28,
   "id": "68ab5f79-9a5a-43a4-b92c-0c8f8c8ae99a",
   "metadata": {},
   "outputs": [],
   "source": [
    "# we will use stratifield K fold to preserve class distribution\n",
    "cv = StratifiedKFold(n_splits=5, shuffle=True, random_state=42)"
   ]
  },
  {
   "cell_type": "code",
   "execution_count": 29,
   "id": "13c59645-197b-42e4-a563-c5e85e8cd90b",
   "metadata": {},
   "outputs": [],
   "source": [
    "y_pred_log = cross_val_predict(LogReg_Pipeline, X, Y, cv=cv, n_jobs=-1)"
   ]
  },
  {
   "cell_type": "code",
   "execution_count": 30,
   "id": "58e143db-ebf1-4e24-a08c-8a2f20cbb075",
   "metadata": {},
   "outputs": [
    {
     "name": "stdout",
     "output_type": "stream",
     "text": [
      "Precision: 0.9006369426751593\n",
      "Recall: 0.9464524765729585\n",
      "F1-score: 0.922976501305483\n"
     ]
    }
   ],
   "source": [
    "precision_log_SMOTE = precision_score(Y, y_pred_log, average='binary', pos_label=1)  \n",
    "recall_log_SMOTE = recall_score(Y, y_pred_log, average='binary', pos_label=1)       \n",
    "f1_log_SMOTE = f1_score(Y, y_pred_log, average='binary', pos_label=1)               \n",
    "\n",
    "print(\"Precision:\", precision_log_SMOTE)\n",
    "print(\"Recall:\", recall_log_SMOTE)\n",
    "print(\"F1-score:\", f1_log_SMOTE)"
   ]
  },
  {
   "cell_type": "code",
   "execution_count": 31,
   "id": "b84c46e7-6d63-4b6d-b7b9-778e9f13644e",
   "metadata": {},
   "outputs": [],
   "source": [
    "with warnings.catch_warnings():\n",
    "    # Filter specific warnings (recommended)\n",
    "    warnings.filterwarnings('ignore', category=ConvergenceWarning)\n",
    "    warnings.filterwarnings('ignore', category=FitFailedWarning)\n",
    "    LogReg_Pipeline.fit(X,Y)\n",
    "    Y_Log_Pred_SMOTE_Final = LogReg_Pipeline.predict(X)"
   ]
  },
  {
   "cell_type": "code",
   "execution_count": 32,
   "id": "6d97a76d-d67a-4067-8edb-7e0e8e6f78c5",
   "metadata": {},
   "outputs": [
    {
     "name": "stdout",
     "output_type": "stream",
     "text": [
      "Precision: 0.9628647214854111\n",
      "Recall: 0.9718875502008032\n",
      "F1-score: 0.9673550966022652\n"
     ]
    }
   ],
   "source": [
    "precision_log_SMOTE_Final = precision_score(Y, Y_Log_Pred_SMOTE_Final, average='binary', pos_label=1)  \n",
    "recall_log_SMOTE_Final = recall_score(Y, Y_Log_Pred_SMOTE_Final, average='binary', pos_label=1)       \n",
    "f1_log_SMOTE_Final = f1_score(Y, Y_Log_Pred_SMOTE_Final, average='binary', pos_label=1)               \n",
    "\n",
    "print(\"Precision:\", precision_log_SMOTE_Final)\n",
    "print(\"Recall:\", recall_log_SMOTE_Final)\n",
    "print(\"F1-score:\", f1_log_SMOTE_Final)"
   ]
  },
  {
   "cell_type": "code",
   "execution_count": 33,
   "id": "57a6f642-ba76-4156-8963-9de6fababad1",
   "metadata": {},
   "outputs": [
    {
     "data": {
      "image/png": "[encoded data removed]",
      "text/plain": [
       "<Figure size 800x600 with 2 Axes>"
      ]
     },
     "metadata": {},
     "output_type": "display_data"
    }
   ],
   "source": [
    "cm = confusion_matrix(Y, Y_Log_Pred_SMOTE_Final)\n",
    "plt.figure(figsize=(8, 6))\n",
    "sns.heatmap(cm, annot=True, fmt='d', cmap='Blues')\n",
    "plt.title('Confusion Matrix')\n",
    "plt.ylabel('Actual')\n",
    "plt.xlabel('Predicted')\n",
    "plt.show()"
   ]
  },
  {
   "cell_type": "markdown",
   "id": "daee4f7f-2368-43f8-9664-a076a9e25816",
   "metadata": {},
   "source": [
    "<h4>  Side-by-side Bar Chart , Naive Bayes vs Logistic Regression , SMOTE</h4>"
   ]
  },
  {
   "cell_type": "code",
   "execution_count": 34,
   "id": "c1b1bb30-f9e7-4f21-be2e-1643b48b68b3",
   "metadata": {},
   "outputs": [
    {
     "data": {
      "image/png": "[encoded data removed]",
      "text/plain": [
       "<Figure size 800x500 with 1 Axes>"
      ]
     },
     "metadata": {},
     "output_type": "display_data"
    }
   ],
   "source": [
    "metrics = ['Precision', 'Recall', 'F1-Score']\n",
    "\n",
    "Naive_Bayes_Scores_SMOTE = [precision_Bayes_SMOTE_Final,recall_Bayes_SMOTE_Final,f1_Bayes_SMOTE_Final]\n",
    "LogReg_Scores_SMOTE = [precision_log_SMOTE_Final,recall_log_SMOTE_Final,f1_log_SMOTE_Final]\n",
    "\n",
    "# Positions and width for bars\n",
    "x = np.arange(len(metrics))  # [0, 1, 2]\n",
    "width = 0.35  # Width of each bar\n",
    "\n",
    "# Plotting\n",
    "fig, ax = plt.subplots(figsize=(8, 5))\n",
    "bars_a = ax.bar(x - width/2, Naive_Bayes_Scores_SMOTE, width, label='Naive Bayes', color='#1f77b4')\n",
    "bars_b = ax.bar(x + width/2, LogReg_Scores_SMOTE, width, label='LogReg', color='#ff7f0e')\n",
    "\n",
    "# Customize the plot\n",
    "ax.set_xticks(x)\n",
    "ax.set_xticklabels(metrics, fontsize=12)\n",
    "ax.set_ylabel('Score', fontsize=12)\n",
    "ax.set_title('Model Comparison: Precision, Recall, F1-Score (SMOTE)', fontsize=14, pad=15)\n",
    "ax.legend(fontsize=12)\n",
    "ax.grid(axis='y', linestyle='--', alpha=0.7)\n",
    "\n",
    "# Add value labels on top of bars\n",
    "def add_labels(bars):\n",
    "    for bar in bars:\n",
    "        height = bar.get_height()\n",
    "        ax.annotate(f'{height:.2f}',\n",
    "                    xy=(bar.get_x() + bar.get_width() / 2, height),\n",
    "                    xytext=(0, 3),  # 3 points vertical offset\n",
    "                    textcoords=\"offset points\",\n",
    "                    ha='center', va='bottom', fontsize=10)\n",
    "\n",
    "add_labels(bars_a)\n",
    "add_labels(bars_b)\n",
    "\n",
    "plt.tight_layout()\n",
    "plt.show()\n",
    "\n"
   ]
  },
  {
   "cell_type": "markdown",
   "id": "a4d2fa04-d822-4da7-b564-bc51a463fd30",
   "metadata": {},
   "source": [
    "Based on what we can observe in the bar chart, SMOTE has not made a signficant change in the metrics for Precision, Recall and F1-Score. Based on this I would conclude that engineering enough robust features to describe the targeted class, we can effectively combat heavy class imbalance in the modeling phase."
   ]
  },
  {
   "cell_type": "markdown",
   "id": "d797749b-3a78-4b17-9b72-169ea17627cd",
   "metadata": {},
   "source": [
    "<h4> Feature Importance</h4>"
   ]
  },
  {
   "cell_type": "code",
   "execution_count": 35,
   "id": "d915813f-af14-41ec-86bd-18a39209fa2f",
   "metadata": {},
   "outputs": [],
   "source": [
    "all_feature_names = X.columns.tolist()"
   ]
  },
  {
   "cell_type": "code",
   "execution_count": 36,
   "id": "1c08e866-9269-4796-a0d8-a29f538657ec",
   "metadata": {},
   "outputs": [
    {
     "data": {
      "text/plain": [
       "['num_chars',\n",
       " 'num_words',\n",
       " 'num_spec_chars',\n",
       " 'num_digits',\n",
       " 'num_Uppercase_Words']"
      ]
     },
     "execution_count": 36,
     "metadata": {},
     "output_type": "execute_result"
    }
   ],
   "source": [
    "all_feature_names[:5]"
   ]
  },
  {
   "cell_type": "code",
   "execution_count": 37,
   "id": "2c512871-784b-479f-bdf6-60a2c23e8eca",
   "metadata": {},
   "outputs": [],
   "source": [
    "# Create a DataFrame linking feature names to coefficients\n",
    "feature_importance = pd.DataFrame({\n",
    "    'Feature': all_feature_names,\n",
    "    'Coefficient': LogReg.coef_[0]  # Use [0] for binary classification\n",
    "})\n",
    "\n",
    "# Top 10 spam-promoting features (highest positive coefficients)\n",
    "top_spam = feature_importance.sort_values('Coefficient', ascending=False).head(10)"
   ]
  },
  {
   "cell_type": "code",
   "execution_count": 38,
   "id": "48d21cda-eec4-4ade-968a-5702239fb74d",
   "metadata": {},
   "outputs": [
    {
     "data": {
      "image/png": "[encoded data removed]",
      "text/plain": [
       "<Figure size 640x480 with 1 Axes>"
      ]
     },
     "metadata": {},
     "output_type": "display_data"
    }
   ],
   "source": [
    "The_Features = top_spam['Feature']\n",
    "Feature_weights = top_spam['Coefficient']\n",
    "sns.barplot(x=The_Features,y=Feature_weights,color='red')\n",
    "\n",
    "plt.xlabel('Features')\n",
    "plt.ylabel('Weights (Importance)')\n",
    "plt.title(\"Top 10 Spam Features\")\n",
    "plt.xticks(rotation=45, ha='right')\n",
    "plt.show()"
   ]
  },
  {
   "cell_type": "markdown",
   "id": "8063d258-c25d-4ff1-86af-5cd0822c4c9d",
   "metadata": {},
   "source": [
    "Based on the chart, the primary indicator of spam, in this dataset, is the number of urls present in the message. This makes sense given that spam is one of the main mediums for cyberattacks such as Ransomware."
   ]
  },
  {
   "cell_type": "markdown",
   "id": "fc5b2cf1-0fec-47fb-ae85-3747374b8fd2",
   "metadata": {},
   "source": [
    "<h1>Conclusion</h1>"
   ]
  },
  {
   "cell_type": "markdown",
   "id": "6a670d77-0a28-4ec7-8fbb-bc0280609407",
   "metadata": {},
   "source": [
    "It seems that , for this dataset at least, training our model with or without SMOTE does result in a significant change in how well they fit the data as long we derive adequate enough features to distinguish between the two classes.   \n",
    "\n",
    "I would say my hypothesis was proven true given that the most important feature for class distinction ( i.e. num_URLS) is a feature I made. Overall, this was a fun experiement.\n",
    "\n",
    "To test my models further I have generated two new datasets with ChatGPT, one that is similar to the dataset used to train my model but with an even worse class imabalnce. The other datset contains adversial spam messages that a threat actor or hacker might use to gain access into a coproration and infect its systems."
   ]
  },
  {
   "cell_type": "markdown",
   "id": "87bbcb57-838a-40c4-a177-260690854883",
   "metadata": {},
   "source": [
    "<h1> Save the models</h1>"
   ]
  },
  {
   "cell_type": "code",
   "execution_count": 39,
   "id": "8915de9d-8a6f-486f-8853-30322685c54b",
   "metadata": {},
   "outputs": [
    {
     "data": {
      "text/plain": [
       "['Bayes_Model.joblib']"
      ]
     },
     "execution_count": 39,
     "metadata": {},
     "output_type": "execute_result"
    }
   ],
   "source": [
    "from joblib import dump\n",
    "\n",
    "# lets save the models\n",
    "dump(Bayes,'Bayes_Model.joblib')"
   ]
  },
  {
   "cell_type": "code",
   "execution_count": 40,
   "id": "3e777b0a-4eba-45c2-9d66-25ad25a0f86a",
   "metadata": {},
   "outputs": [
    {
     "data": {
      "text/plain": [
       "['LogReg_Model.joblib']"
      ]
     },
     "execution_count": 40,
     "metadata": {},
     "output_type": "execute_result"
    }
   ],
   "source": [
    "dump(LogReg,'LogReg_Model.joblib')"
   ]
  },
  {
   "cell_type": "code",
   "execution_count": null,
   "id": "46a24f04-ec9f-4690-85a0-74a0d4ae743f",
   "metadata": {},
   "outputs": [],
   "source": []
  }
 ],
 "metadata": {
  "kernelspec": {
   "display_name": "Python [conda env:base] *",
   "language": "python",
   "name": "conda-base-py"
  },
  "language_info": {
   "codemirror_mode": {
    "name": "ipython",
    "version": 3
   },
   "file_extension": ".py",
   "mimetype": "text/x-python",
   "name": "python",
   "nbconvert_exporter": "python",
   "pygments_lexer": "ipython3",
   "version": "3.12.7"
  }
 },
 "nbformat": 4,
 "nbformat_minor": 5
}
